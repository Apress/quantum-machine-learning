{
 "cells": [
  {
   "cell_type": "markdown",
   "id": "pediatric-yacht",
   "metadata": {},
   "source": [
    "# Chapter 8: Binary Classifier with the Iris Dataset"
   ]
  },
  {
   "cell_type": "code",
   "execution_count": 71,
   "id": "considerable-roulette",
   "metadata": {},
   "outputs": [],
   "source": [
    "from itertools import chain\n",
    "from sklearn import datasets\n",
    "from sklearn.utils import shuffle\n",
    "from sklearn.preprocessing import minmax_scale\n",
    "from sklearn.model_selection import train_test_split\n",
    "import sklearn.metrics as metrics\n",
    "\n",
    "import pennylane as qml\n",
    "from pennylane import numpy as np\n",
    "from pennylane.templates.embeddings import AngleEmbedding\n",
    "from pennylane.templates.layers import StronglyEntanglingLayers\n",
    "from pennylane.init import strong_ent_layers_uniform\n",
    "from pennylane.optimize import GradientDescentOptimizer\n",
    "from pennylane.devices.default_qubit import DefaultQubit"
   ]
  },
  {
   "cell_type": "code",
   "execution_count": 72,
   "id": "published-marketing",
   "metadata": {},
   "outputs": [],
   "source": [
    "# Import data, pre-processing, data splitting\n",
    "# load the dataset\n",
    "iris = datasets.load_iris ()\n",
    "\n",
    "# shuffle the data\n",
    "X, y = shuffle (iris.data , iris.target , random_state = 0)\n",
    "\n",
    "# select only 2 first classes from the data\n",
    "X = X[y <=1]\n",
    "y = y[y <=1]\n",
    "\n",
    "# normalize data\n",
    "X = minmax_scale (X, feature_range =(0 , np.pi ))\n",
    "\n",
    "# split data into train + validation and test\n",
    "X_train_val , X_test , y_train_val , y_test = train_test_split (X, y, test_size =0.2)"
   ]
  },
  {
   "cell_type": "code",
   "execution_count": 74,
   "id": "destroyed-spotlight",
   "metadata": {},
   "outputs": [],
   "source": [
    "# Building the Quantum Classifier\n",
    "\n",
    "# number of qubits is equal to the number of features\n",
    "n_qubits = X.shape [1]\n",
    "\n",
    "# quantum device handle\n",
    "dev = DefaultQubit(n_qubits)\n",
    "\n",
    "# quantum circuit\n",
    "@qml.qnode (dev )\n",
    "def circuit ( weights , x= None ):\n",
    "    AngleEmbedding (x, wires = range ( n_qubits ))\n",
    "    StronglyEntanglingLayers ( weights , wires = range ( n_qubits ))\n",
    "    return qml.expval ( qml.PauliZ (0))\n",
    "\n",
    "# variational quantum classifier\n",
    "def variational_classifier (theta , x= None ):\n",
    "    weights = theta [0]\n",
    "    bias = theta [1]\n",
    "    return circuit ( weights , x=x) + bias\n",
    "\n",
    "def cost (theta , X, expectations ):\n",
    "    e_predicted = \\\n",
    "      np.array ([ variational_classifier (theta , x=x) for x in X])\n",
    "    loss = np.mean (( e_predicted - expectations )**2)\n",
    "    return loss"
   ]
  },
  {
   "cell_type": "code",
   "execution_count": 75,
   "id": "alive-argument",
   "metadata": {},
   "outputs": [],
   "source": [
    "#Prepare to Train Data\n",
    "\n",
    "# number of quantum layers\n",
    "n_layers = 3\n",
    "\n",
    "# split into train and validation\n",
    "X_train , X_validation , y_train , y_validation = \\\n",
    "train_test_split ( X_train_val , y_train_val , test_size =0.20)\n",
    "\n",
    "# convert classes to expectations : 0 to -1, 1 to +1\n",
    "e_train = np. empty_like ( y_train )\n",
    "e_train [ y_train == 0] = -1\n",
    "e_train [ y_train == 1] = +1\n",
    "\n",
    "# select learning batch size\n",
    "batch_size = 5\n",
    "\n",
    "# calculate numbe of batches\n",
    "batches = len ( X_train ) // batch_size\n",
    "\n",
    "# select number of epochs\n",
    "n_epochs = 10"
   ]
  },
  {
   "cell_type": "code",
   "execution_count": 76,
   "id": "healthy-force",
   "metadata": {},
   "outputs": [],
   "source": [
    "# Train the Data!\n",
    "# draw random quantum node weights\n",
    "theta_weights = strong_ent_layers_uniform ( n_layers , n_qubits , seed =42)\n",
    "theta_bias = 0.0\n",
    "theta_init = ( theta_weights , theta_bias ) # initial weights\n",
    "\n",
    "# train the variational classifier\n",
    "theta = theta_init\n",
    "\n",
    "\n",
    "# start of main learning loop\n",
    "# build the optimizer object\n",
    "pennylane_opt = GradientDescentOptimizer ()\n",
    "\n",
    "# split training data into batches\n",
    "X_batches = np.array_split (np.arange (len ( X_train )), batches )\n",
    "for it , batch_index in enumerate ( chain (*( n_epochs * [ X_batches ]))):\n",
    "    # Update the weights by one optimizer step\n",
    "    batch_cost = \\\n",
    "        lambda theta : cost (theta , X_train [ batch_index ], e_train [ batch_index ])\n",
    "    theta = pennylane_opt.step ( batch_cost , theta )\n",
    "    # use X_validation and y_validation to decide whether to stop\n",
    "# end of learning loop"
   ]
  },
  {
   "cell_type": "code",
   "execution_count": 77,
   "id": "running-embassy",
   "metadata": {},
   "outputs": [
    {
     "name": "stdout",
     "output_type": "stream",
     "text": [
      "1.0\n",
      "Accuracy: 100.00 %\n",
      "[[12  0]\n",
      " [ 0  8]]\n"
     ]
    }
   ],
   "source": [
    "# Inference\n",
    "# convert expectations to classes\n",
    "expectations = np. array ([ variational_classifier (theta , x=x) for x in X_test ])\n",
    "prob_class_one = ( expectations + 1.0) / 2.0\n",
    "y_pred = ( prob_class_one >= 0.5)\n",
    "\n",
    "print ( metrics . accuracy_score ( y_test , y_pred ))\n",
    "print (\"Accuracy: {:.2f} %\".format(metrics.accuracy_score ( y_test , y_pred )*100))\n",
    "print ( metrics.confusion_matrix ( y_test , y_pred ))"
   ]
  },
  {
   "cell_type": "code",
   "execution_count": null,
   "id": "black-attempt",
   "metadata": {},
   "outputs": [],
   "source": []
  }
 ],
 "metadata": {
  "kernelspec": {
   "display_name": "Python 3",
   "language": "python",
   "name": "python3"
  },
  "language_info": {
   "codemirror_mode": {
    "name": "ipython",
    "version": 3
   },
   "file_extension": ".py",
   "mimetype": "text/x-python",
   "name": "python",
   "nbconvert_exporter": "python",
   "pygments_lexer": "ipython3",
   "version": "3.7.10"
  }
 },
 "nbformat": 4,
 "nbformat_minor": 5
}
