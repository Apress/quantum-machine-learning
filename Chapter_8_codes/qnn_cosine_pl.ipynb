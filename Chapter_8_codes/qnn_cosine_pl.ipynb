{
 "cells": [
  {
   "cell_type": "markdown",
   "metadata": {},
   "source": [
    "# Chapter 8: Cosine Function Fitting with a Quantum Neural Network (QNN)"
   ]
  },
  {
   "cell_type": "markdown",
   "metadata": {},
   "source": [
    "The variational circuit used is the continuous-variable quantum neural\n",
    "network model described in:\n",
    "\n",
    "`Killoran et al. (2018) <https://arxiv.org/abs/1806.06871>`\n"
   ]
  },
  {
   "cell_type": "code",
   "execution_count": 14,
   "metadata": {},
   "outputs": [],
   "source": [
    "# Import PennyLane, the wrapped version of NumPy provided by PennyLane,and an optimizer.\n",
    "import pennylane as qml\n",
    "from pennylane import numpy as np\n",
    "from pennylane.optimize import AdamOptimizer"
   ]
  },
  {
   "cell_type": "code",
   "execution_count": 15,
   "metadata": {},
   "outputs": [],
   "source": [
    "import matplotlib.pyplot as plt\n",
    "import numpy as np\n",
    "import pylab\n",
    "import pickle"
   ]
  },
  {
   "cell_type": "markdown",
   "metadata": {},
   "source": [
    "## Data Creation:  Noisy Cosine Function for Sampling"
   ]
  },
  {
   "cell_type": "code",
   "execution_count": 16,
   "metadata": {},
   "outputs": [],
   "source": [
    "Xlim = 5\n",
    "noise = np.random.normal(0,0.1,100) # generate noise to add to the function values (Y-values)\n",
    "# define functions\n",
    "X = np.arange(-Xlim, Xlim, 0.1)\n",
    "Y = np.cos(X)+noise"
   ]
  },
  {
   "cell_type": "markdown",
   "metadata": {},
   "source": [
    "This will generate two lists 'X' and 'Y' with our X-axis and Y-axis data. The Y-axis data will be copied into a file called \"cosdata.md\" for future use."
   ]
  },
  {
   "cell_type": "code",
   "execution_count": 17,
   "metadata": {},
   "outputs": [],
   "source": [
    "# write the data out to a file\n",
    "cosdata = open('cosdata.md', 'wb')\n",
    "pickle.dump(Y, cosdata)\n",
    "cosdata.close()"
   ]
  },
  {
   "cell_type": "code",
   "execution_count": 18,
   "metadata": {},
   "outputs": [
    {
     "data": {
      "text/plain": [
       "[<matplotlib.lines.Line2D at 0x2019ac50dc8>]"
      ]
     },
     "execution_count": 18,
     "metadata": {},
     "output_type": "execute_result"
    },
    {
     "data": {
      "image/png": "[encoded data removed]",
      "text/plain": [
       "<Figure size 432x288 with 1 Axes>"
      ]
     },
     "metadata": {
      "needs_background": "light"
     },
     "output_type": "display_data"
    }
   ],
   "source": [
    "plt.plot(X[0:200], Y[0:200])"
   ]
  },
  {
   "cell_type": "code",
   "execution_count": 19,
   "metadata": {},
   "outputs": [],
   "source": [
    "dev = qml.device(\"strawberryfields.fock\", wires=1, cutoff_dim=10)"
   ]
  },
  {
   "cell_type": "markdown",
   "metadata": {},
   "source": [
    "### Quantum node\n",
    "For a single quantum mode, each layer of the variational circuit is defined as:"
   ]
  },
  {
   "cell_type": "code",
   "execution_count": 20,
   "metadata": {},
   "outputs": [],
   "source": [
    "def layer(v):\n",
    "    # Matrix multiplication of input layer\n",
    "    qml.Rotation(v[0], wires=0)\n",
    "    qml.Squeezing(v[1], 0.0, wires=0)\n",
    "    qml.Rotation(v[2], wires=0)\n",
    "\n",
    "    # Bias\n",
    "    qml.Displacement(v[3], 0.0, wires=0)\n",
    "\n",
    "    # Element-wise nonlinear transformation\n",
    "    qml.Kerr(v[4], wires=0)"
   ]
  },
  {
   "cell_type": "markdown",
   "metadata": {},
   "source": [
    "The variational circuit in the quantum node first encodes the input into\n",
    "the displacement of the mode, and then executes the layers. The output\n",
    "is the expectation of the x-quadrature."
   ]
  },
  {
   "cell_type": "code",
   "execution_count": 21,
   "metadata": {},
   "outputs": [],
   "source": [
    "@qml.qnode(dev)\n",
    "def quantum_neural_net(var, x=None):\n",
    "    # Encode input x into quantum state\n",
    "    qml.Displacement(x, 0.0, wires=0)\n",
    "\n",
    "    # \"layer\" subcircuits\n",
    "    for v in var:\n",
    "        layer(v)\n",
    "\n",
    "    return qml.expval(qml.X(0))"
   ]
  },
  {
   "cell_type": "markdown",
   "metadata": {},
   "source": [
    "### Objective\n",
    "As an objective we take the square loss between target labels and model\n",
    "predictions."
   ]
  },
  {
   "cell_type": "code",
   "execution_count": 22,
   "metadata": {},
   "outputs": [],
   "source": [
    "def square_loss(labels, predictions):\n",
    "    loss = 0\n",
    "    for l, p in zip(labels, predictions):\n",
    "        loss = loss + (l - p) ** 2\n",
    "\n",
    "    loss = loss / len(labels)\n",
    "    return loss"
   ]
  },
  {
   "cell_type": "markdown",
   "metadata": {},
   "source": [
    "In the cost function, we compute the outputs from the variational\n",
    "circuit. Function fitting is a regression problem, and we interpret the\n",
    "expectations from the quantum node as predictions (i.e., without\n",
    "applying postprocessing such as thresholding).\n"
   ]
  },
  {
   "cell_type": "code",
   "execution_count": 23,
   "metadata": {},
   "outputs": [],
   "source": [
    "def cost(var, features, labels):\n",
    "    preds = [quantum_neural_net(var, x=x) for x in features]\n",
    "    return square_loss(labels, preds)"
   ]
  },
  {
   "cell_type": "markdown",
   "metadata": {},
   "source": [
    "### Optimization\n",
    "We load noisy data samples of a sine function and before training a model, we examine the data."
   ]
  },
  {
   "cell_type": "code",
   "execution_count": 24,
   "metadata": {},
   "outputs": [
    {
     "data": {
      "image/png": "[encoded data removed]",
      "text/plain": [
       "<Figure size 432x288 with 1 Axes>"
      ]
     },
     "metadata": {
      "needs_background": "light"
     },
     "output_type": "display_data"
    }
   ],
   "source": [
    "plt.figure()\n",
    "plt.scatter(X, Y)\n",
    "plt.xlabel(\"x\", fontsize=18)\n",
    "plt.ylabel(\"f(x)\", fontsize=18)\n",
    "plt.tick_params(axis=\"both\", which=\"major\", labelsize=16)\n",
    "plt.tick_params(axis=\"both\", which=\"minor\", labelsize=16)\n",
    "plt.show()"
   ]
  },
  {
   "cell_type": "markdown",
   "metadata": {},
   "source": [
    "The network’s weights (called ``var`` here) are initialized with values\n",
    "sampled from a normal distribution. We use 4 layers; performance has\n",
    "been found to plateau at around 6 layers."
   ]
  },
  {
   "cell_type": "code",
   "execution_count": 25,
   "metadata": {},
   "outputs": [
    {
     "name": "stdout",
     "output_type": "stream",
     "text": [
      "[[ 0.08820262  0.02000786  0.0489369   0.11204466  0.0933779 ]\n",
      " [-0.04886389  0.04750442 -0.00756786 -0.00516094  0.02052993]\n",
      " [ 0.00720218  0.07271368  0.03805189  0.00608375  0.02219316]\n",
      " [ 0.01668372  0.07470395 -0.01025791  0.01565339 -0.04270479]]\n"
     ]
    }
   ],
   "source": [
    "np.random.seed(0)\n",
    "num_layers = 4\n",
    "var_init = 0.05 * np.random.randn(num_layers, 5)\n",
    "print(var_init)"
   ]
  },
  {
   "cell_type": "code",
   "execution_count": 30,
   "metadata": {},
   "outputs": [
    {
     "name": "stdout",
     "output_type": "stream",
     "text": [
      "Iter:     1 | Cost: 1.1368855 \n",
      "Iter:     2 | Cost: 0.9848804 \n",
      "Iter:     3 | Cost: 0.9151763 \n",
      "Iter:     4 | Cost: 0.8904604 \n",
      "Iter:     5 | Cost: 0.8909280 \n",
      "Iter:     6 | Cost: 0.9044083 \n",
      "Iter:     7 | Cost: 0.9230133 \n",
      "Iter:     8 | Cost: 0.9416181 \n",
      "Iter:     9 | Cost: 0.9570034 \n",
      "Iter:    10 | Cost: 0.9672977 \n",
      "Iter:    11 | Cost: 0.9715885 \n",
      "Iter:    12 | Cost: 0.9696429 \n",
      "Iter:    13 | Cost: 0.9617078 \n",
      "Iter:    14 | Cost: 0.9483643 \n",
      "Iter:    15 | Cost: 0.9304217 \n",
      "Iter:    16 | Cost: 0.9088344 \n",
      "Iter:    17 | Cost: 0.8846331 \n",
      "Iter:    18 | Cost: 0.8588647 \n",
      "Iter:    19 | Cost: 0.8325356 \n",
      "Iter:    20 | Cost: 0.8065613 \n",
      "Iter:    21 | Cost: 0.7817214 \n",
      "Iter:    22 | Cost: 0.7586265 \n",
      "Iter:    23 | Cost: 0.7376979 \n",
      "Iter:    24 | Cost: 0.7191642 \n",
      "Iter:    25 | Cost: 0.7030729 \n",
      "Iter:    26 | Cost: 0.6893169 \n",
      "Iter:    27 | Cost: 0.6776699 \n",
      "Iter:    28 | Cost: 0.6678257 \n",
      "Iter:    29 | Cost: 0.6594372 \n",
      "Iter:    30 | Cost: 0.6521505 \n",
      "Iter:    31 | Cost: 0.6456310 \n",
      "Iter:    32 | Cost: 0.6395822 \n",
      "Iter:    33 | Cost: 0.6337558 \n",
      "Iter:    34 | Cost: 0.6279560 \n",
      "Iter:    35 | Cost: 0.6220386 \n",
      "Iter:    36 | Cost: 0.6159074 \n",
      "Iter:    37 | Cost: 0.6095077 \n",
      "Iter:    38 | Cost: 0.6028200 \n",
      "Iter:    39 | Cost: 0.5958530 \n",
      "Iter:    40 | Cost: 0.5886369 \n",
      "Iter:    41 | Cost: 0.5812174 \n",
      "Iter:    42 | Cost: 0.5736501 \n",
      "Iter:    43 | Cost: 0.5659961 \n",
      "Iter:    44 | Cost: 0.5583175 \n",
      "Iter:    45 | Cost: 0.5506743 \n",
      "Iter:    46 | Cost: 0.5431215 \n",
      "Iter:    47 | Cost: 0.5357069 \n",
      "Iter:    48 | Cost: 0.5284699 \n",
      "Iter:    49 | Cost: 0.5214399 \n",
      "Iter:    50 | Cost: 0.5146368 \n"
     ]
    }
   ],
   "source": [
    "opt = AdamOptimizer(0.01, beta1=0.9, beta2=0.999)\n",
    "\n",
    "var = var_init\n",
    "for it in range(50):\n",
    "    var = opt.step(lambda v: cost(v, X, Y), var)\n",
    "    print(\"Iter: {:5d} | Cost: {:0.7f} \".format(it + 1, cost(var, X, Y)))"
   ]
  },
  {
   "cell_type": "markdown",
   "metadata": {},
   "source": [
    "Finally, we collect the predictions of the trained model for 50 values\n",
    "in the range $[0,30]$:"
   ]
  },
  {
   "cell_type": "code",
   "execution_count": 37,
   "metadata": {},
   "outputs": [],
   "source": [
    "x_pred = np.linspace(-3, 3, 50)\n",
    "predictions = [quantum_neural_net(var, x=x_) for x_ in x_pred]"
   ]
  },
  {
   "cell_type": "markdown",
   "metadata": {},
   "source": [
    "and plot the shape of the function that the model has “learned” from\n",
    "the noisy data (maroon dots)."
   ]
  },
  {
   "cell_type": "code",
   "execution_count": 44,
   "metadata": {},
   "outputs": [
    {
     "data": {
      "image/png": "[encoded data removed]",
      "text/plain": [
       "<Figure size 432x288 with 1 Axes>"
      ]
     },
     "metadata": {
      "needs_background": "light"
     },
     "output_type": "display_data"
    }
   ],
   "source": [
    "# plot the function\n",
    "plt.figure()\n",
    "plt.scatter(X, Y)\n",
    "plt.scatter(x_pred, predictions, color=\"maroon\")\n",
    "plt.xlabel(\"x\")\n",
    "plt.ylabel(\"f(x)\")\n",
    "plt.tick_params(axis=\"both\", which=\"major\")\n",
    "plt.tick_params(axis=\"both\", which=\"minor\")\n",
    "plt.show()"
   ]
  },
  {
   "cell_type": "markdown",
   "metadata": {},
   "source": [
    "The model has learned to smooth the noisy data.\n",
    "\n",
    "In fact, we can use PennyLane to look at typical functions that the\n",
    "model produces without being trained at all. The shape of these\n",
    "functions varies significantly with the variance hyperparameter for the\n",
    "weight initialization.\n",
    "\n",
    "Setting this hyperparameter to a small value produces almost linear\n",
    "functions, since all quantum gates in the variational circuit\n",
    "approximately perform the identity transformation in that case. Larger\n",
    "values produce smoothly oscillating functions with a period that depends\n",
    "on the number of layers used (generically, more the layers, smaller\n",
    "the period)."
   ]
  },
  {
   "cell_type": "code",
   "execution_count": 34,
   "metadata": {},
   "outputs": [
    {
     "data": {
      "image/png": "[encoded data removed]",
      "text/plain": [
       "<Figure size 432x288 with 1 Axes>"
      ]
     },
     "metadata": {
      "needs_background": "light"
     },
     "output_type": "display_data"
    }
   ],
   "source": [
    "variance = 1.0\n",
    "\n",
    "plt.figure()\n",
    "x_pred = np.linspace(-5, 5, 50)\n",
    "for i in range(7):\n",
    "    rnd_var = variance * np.random.randn(num_layers, 7)\n",
    "    predictions = [quantum_neural_net(rnd_var, x=x_) for x_ in x_pred]\n",
    "    plt.plot(x_pred, predictions, color=\"black\")\n",
    "plt.xlabel(\"x\")\n",
    "plt.ylabel(\"f(x)\")\n",
    "plt.tick_params(axis=\"both\", which=\"major\")\n",
    "plt.tick_params(axis=\"both\", which=\"minor\")\n",
    "plt.show()"
   ]
  },
  {
   "cell_type": "markdown",
   "metadata": {},
   "source": [
    "## References\n",
    "PennyLane \"Function Fitting with a Quantum Neural Network\" ```https://pennylane.ai/qml/app/quantum_neural_net.html```\n",
    "\n",
    "`Killoran et al. (2018) <https://arxiv.org/abs/1806.06871>`\n",
    "\n",
    "\"Adding noise to a signal in python\" ```https://stackoverflow.com/questions/14058340/adding-noise-to-a-signal-in-python```"
   ]
  },
  {
   "cell_type": "code",
   "execution_count": null,
   "metadata": {},
   "outputs": [],
   "source": []
  }
 ],
 "metadata": {
  "kernelspec": {
   "display_name": "Python 3",
   "language": "python",
   "name": "python3"
  },
  "language_info": {
   "codemirror_mode": {
    "name": "ipython",
    "version": 3
   },
   "file_extension": ".py",
   "mimetype": "text/x-python",
   "name": "python",
   "nbconvert_exporter": "python",
   "pygments_lexer": "ipython3",
   "version": "3.7.10"
  }
 },
 "nbformat": 4,
 "nbformat_minor": 4
}
