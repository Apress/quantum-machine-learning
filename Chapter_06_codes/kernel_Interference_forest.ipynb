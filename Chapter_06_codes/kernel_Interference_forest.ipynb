{
 "cells": [
  {
   "cell_type": "markdown",
   "metadata": {},
   "source": [
    "## Chapter 6: Kernel Method with Rigetti Forest"
   ]
  },
  {
   "cell_type": "code",
   "execution_count": 94,
   "metadata": {},
   "outputs": [],
   "source": [
    "from pyquil import Program, get_qc\n",
    "from pyquil.gates import *\n",
    "import cmath\n",
    "import matplotlib.pyplot as plt\n",
    "import numpy as np\n",
    "from pyquil.api import ForestConnection\n",
    "from pyquil.api import WavefunctionSimulator\n",
    "from pyquil.api import QVMConnection\n",
    "from tempfile import mkdtemp\n",
    "import itertools\n",
    "import socket\n",
    "import subprocess\n",
    "\n",
    "qvm = QVMConnection()"
   ]
  },
  {
   "cell_type": "code",
   "execution_count": 95,
   "metadata": {},
   "outputs": [
    {
     "name": "stdout",
     "output_type": "stream",
     "text": [
      "Input = \n",
      " [0. +0.j 0.5+0.j 0. +0.j 0.5+0.j 0.5+0.j 0. +0.j 0.5+0.j 0. +0.j 0. +0.j\n",
      " 0. +0.j 0. +0.j 0. +0.j 0. +0.j 0. +0.j 0. +0.j 0. +0.j]\n"
     ]
    }
   ],
   "source": [
    "## define a function for amplitudes\n",
    "\n",
    "def get_amplitudes(circuit):\n",
    "    wf_sim = WavefunctionSimulator()\n",
    "    wavefunction = wf_sim.wavefunction(circuit)\n",
    "    amplitudes = wavefunction.amplitudes\n",
    "\n",
    "    return amplitudes\n",
    "\n",
    "\n",
    "ancilla_qubit = 0\n",
    "index_qubit = 1\n",
    "data_qubit = 2\n",
    "class_qubit = 3\n",
    "\n",
    "training_set = [[0, 1], [np.sqrt(2)/2, np.sqrt(2)/2]]\n",
    "labels = [0, 1]\n",
    "test_set = [[1, 0]]\n",
    "\n",
    "test_angles = [2*np.arccos(test_set[0][0])/2]\n",
    "training_angle = (2*np.arccos(training_set[1][0]))/4\n",
    "\n",
    "angles = [test_angles[0], training_angle]\n",
    "\n",
    "circuit = Program()\n",
    "# Create uniform superpositions of the ancilla and index qubits\n",
    "circuit += H(ancilla_qubit)\n",
    "circuit += H(index_qubit)\n",
    "\n",
    "# Entangle the test instance with ground state of ancilla\n",
    "circuit += CNOT(ancilla_qubit, data_qubit)\n",
    "circuit += X(ancilla_qubit)\n",
    "\n",
    "# Apply Identity to Class state\n",
    "circuit += I(class_qubit)\n",
    "\n",
    "print('Input = \\n', get_amplitudes(circuit))\n"
   ]
  },
  {
   "cell_type": "code",
   "execution_count": 96,
   "metadata": {},
   "outputs": [
    {
     "name": "stdout",
     "output_type": "stream",
     "text": [
      "First training instance \n",
      " [0. +0.j 0. +0.j 0. +0.j 0.5+0.j 0.5+0.j 0.5+0.j 0.5+0.j 0. +0.j 0. +0.j\n",
      " 0. +0.j 0. +0.j 0. +0.j 0. +0.j 0. +0.j 0. +0.j 0. +0.j]\n"
     ]
    }
   ],
   "source": [
    "# Extend the circuit to prepare the first training\n",
    "# instance and entanle it with the excited\n",
    "# state of the ancilla and ground state of the index qubit.\n",
    "\n",
    "circuit += CCNOT(ancilla_qubit, index_qubit, data_qubit)\n",
    "circuit += X(index_qubit)\n",
    "\n",
    "print('First training instance \\n', get_amplitudes(circuit))\n"
   ]
  },
  {
   "cell_type": "code",
   "execution_count": 97,
   "metadata": {},
   "outputs": [
    {
     "name": "stdout",
     "output_type": "stream",
     "text": [
      "Second training instance \n",
      " [ 0. +0.j  0. +0.j  0. +0.j  0.5+0.j  0.5+0.j  0.5+0.j -0.5+0.j  0. +0.j\n",
      "  0. +0.j  0. +0.j  0. +0.j  0. +0.j  0. +0.j  0. +0.j  0. +0.j  0. +0.j]\n"
     ]
    }
   ],
   "source": [
    "circuit += CCNOT(ancilla_qubit, index_qubit, data_qubit)\n",
    "circuit += CNOT(index_qubit, data_qubit)\n",
    "circuit += H(data_qubit)\n",
    "\n",
    "circuit += CCNOT(ancilla_qubit, index_qubit, data_qubit)\n",
    "circuit += CNOT(index_qubit, data_qubit)\n",
    "circuit += H(data_qubit)\n",
    "\n",
    "circuit += CCNOT(ancilla_qubit, index_qubit, data_qubit)\n",
    "circuit += CNOT(index_qubit, data_qubit)\n",
    "circuit += H(data_qubit)\n",
    "\n",
    "circuit += CCNOT(ancilla_qubit, index_qubit, data_qubit)\n",
    "circuit += CNOT(index_qubit, data_qubit)\n",
    "circuit += H(data_qubit)\n",
    "\n",
    "print('Second training instance \\n', get_amplitudes(circuit))"
   ]
  },
  {
   "cell_type": "code",
   "execution_count": 98,
   "metadata": {},
   "outputs": [],
   "source": [
    "circuit += CNOT(index_qubit, class_qubit)"
   ]
  },
  {
   "cell_type": "code",
   "execution_count": 99,
   "metadata": {},
   "outputs": [
    {
     "name": "stdout",
     "output_type": "stream",
     "text": [
      "No\n"
     ]
    }
   ],
   "source": [
    "amplitudes = get_amplitudes(circuit)\n",
    "\n",
    "target = np.array([ 0. +0.j,  0. +0.j,\n",
    "                    0. +0.j,  0.5+0.j,\n",
    "                    0.5+0.j,  0.5+0.j,\n",
    "                    -0.5+0.j,  0. +0.j,\n",
    "                    0. +0.j,  0. +0.j,\n",
    "                    0. +0.j,  0. +0.j,\n",
    "                    0. +0.j,  0. +0.j,\n",
    "                    0. +0.j,  0. +0.j])\n",
    "\n",
    "\n",
    "if np.allclose(amplitudes, target):\n",
    "    print('Yes')\n",
    "else:\n",
    "    print('No')"
   ]
  },
  {
   "cell_type": "code",
   "execution_count": 100,
   "metadata": {},
   "outputs": [
    {
     "name": "stdout",
     "output_type": "stream",
     "text": [
      "Circuit \n",
      " [ 0.        +0.j  0.        +0.j  0.        +0.j  0.        +0.j\n",
      "  0.70710678+0.j  0.        +0.j  0.        +0.j  0.        +0.j\n",
      "  0.        +0.j  0.        +0.j  0.35355339+0.j -0.35355339+0.j\n",
      "  0.        +0.j  0.        +0.j -0.35355339+0.j -0.35355339+0.j]\n"
     ]
    }
   ],
   "source": [
    "circuit += H(ancilla_qubit)\n",
    "print('Circuit \\n', get_amplitudes(circuit))"
   ]
  },
  {
   "cell_type": "code",
   "execution_count": null,
   "metadata": {},
   "outputs": [],
   "source": []
  }
 ],
 "metadata": {
  "kernelspec": {
   "display_name": "Python 3",
   "language": "python",
   "name": "python3"
  },
  "language_info": {
   "codemirror_mode": {
    "name": "ipython",
    "version": 3
   },
   "file_extension": ".py",
   "mimetype": "text/x-python",
   "name": "python",
   "nbconvert_exporter": "python",
   "pygments_lexer": "ipython3",
   "version": "3.7.10"
  }
 },
 "nbformat": 4,
 "nbformat_minor": 4
}
