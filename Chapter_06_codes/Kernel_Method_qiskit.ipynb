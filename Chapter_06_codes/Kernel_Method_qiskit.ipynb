{
 "cells": [
  {
   "cell_type": "markdown",
   "metadata": {},
   "source": [
    "\n",
    "## Chapter 6: Kernel Methods\n",
    "\n",
    "Reference [[95](#1)].\n",
    "\n",
    "Import libraries and  initialize:"
   ]
  },
  {
   "cell_type": "code",
   "execution_count": 7,
   "metadata": {
    "ExecuteTime": {
     "end_time": "2019-02-01T23:26:52.516626Z",
     "start_time": "2019-02-01T23:26:51.787904Z"
    }
   },
   "outputs": [],
   "source": [
    "from qiskit import ClassicalRegister, QuantumRegister, QuantumCircuit\n",
    "from qiskit import execute\n",
    "from qiskit import BasicAer\n",
    "\n",
    "q = QuantumRegister(4)\n",
    "c = ClassicalRegister(4)\n",
    "backend = BasicAer.get_backend('qasm_simulator')"
   ]
  },
  {
   "cell_type": "markdown",
   "metadata": {},
   "source": [
    " Define training and test sets with the following training instances of the [Iris dataset](https://archive.ics.uci.edu/ml/datasets/iris):"
   ]
  },
  {
   "cell_type": "code",
   "execution_count": 8,
   "metadata": {
    "ExecuteTime": {
     "end_time": "2019-02-01T23:26:52.525627Z",
     "start_time": "2019-02-01T23:26:52.518665Z"
    }
   },
   "outputs": [],
   "source": [
    "training_set = [[0, 1], [0.78861006, 0.61489363]]\n",
    "labels = [0, 1]\n",
    "test_set = [[-0.549, 0.836], [0.053 , 0.999]]"
   ]
  },
  {
   "cell_type": "markdown",
   "metadata": {},
   "source": [
    " Define amplitude encoding, "
   ]
  },
  {
   "cell_type": "code",
   "execution_count": 9,
   "metadata": {
    "ExecuteTime": {
     "end_time": "2019-02-01T23:26:52.546765Z",
     "start_time": "2019-02-01T23:26:52.527115Z"
    }
   },
   "outputs": [],
   "source": [
    "test_angles = [4.30417579487669/2, 3.0357101997648965/2]\n",
    "training_angle = 1.3245021469658966/4"
   ]
  },
  {
   "cell_type": "markdown",
   "metadata": {},
   "source": [
    "Define the state preparation function. "
   ]
  },
  {
   "cell_type": "code",
   "execution_count": 10,
   "metadata": {
    "ExecuteTime": {
     "end_time": "2019-02-01T23:26:52.589616Z",
     "start_time": "2019-02-01T23:26:52.548747Z"
    }
   },
   "outputs": [],
   "source": [
    "def prepare_state(q, c, angles):\n",
    "    ancilla_qubit = q[0]\n",
    "    index_qubit = q[1]\n",
    "    data_qubit = q[2]\n",
    "    class_qubit = q[3]\n",
    "    circuit = QuantumCircuit(q, c)\n",
    "    # Put the ancilla and the index qubits into uniform superposition\n",
    "    circuit.h(ancilla_qubit)\n",
    "    circuit.h(index_qubit)\n",
    "\n",
    "    # Prepare the test vector\n",
    "    circuit.cx(ancilla_qubit, data_qubit)\n",
    "    circuit.u3(-angles[0], 0, 0, data_qubit)\n",
    "    circuit.cx(ancilla_qubit, data_qubit)\n",
    "    circuit.u3(angles[0], 0, 0, data_qubit)\n",
    "    # Flip the ancilla qubit > this moves the input \n",
    "    # vector to the |0> state of the ancilla\n",
    "    circuit.x(ancilla_qubit)\n",
    "    circuit.barrier()\n",
    "\n",
    "    # Prepare the first training vector\n",
    "    # [0,1] -> class 0\n",
    "    # We can prepare this with a Toffoli\n",
    "    circuit.ccx(ancilla_qubit, index_qubit, data_qubit)\n",
    "    # Flip the index qubit > moves the first training vector to the \n",
    "    # |0> state of the index qubit\n",
    "    circuit.x(index_qubit)\n",
    "    circuit.barrier()\n",
    "\n",
    "    # Prepare the second training vector\n",
    "    # [0.78861, 0.61489] -> class 1\n",
    "\n",
    "    circuit.ccx(ancilla_qubit, index_qubit, data_qubit)\n",
    "    circuit.cx(index_qubit, data_qubit)\n",
    "    circuit.u3(angles[1], 0, 0, data_qubit)\n",
    "    circuit.cx(index_qubit, data_qubit)\n",
    "    circuit.u3(-angles[1], 0, 0, data_qubit)\n",
    "    circuit.ccx(ancilla_qubit, index_qubit, data_qubit)\n",
    "    circuit.cx(index_qubit, data_qubit)\n",
    "    circuit.u3(-angles[1], 0, 0, data_qubit)\n",
    "    circuit.cx(index_qubit, data_qubit)\n",
    "    circuit.u3(angles[1], 0, 0, data_qubit)\n",
    "    circuit.barrier()\n",
    "\n",
    "    # Flip the class label for training vector #2\n",
    "    circuit.cx(index_qubit, class_qubit)\n",
    "    circuit.barrier()\n",
    "    return circuit"
   ]
  },
  {
   "cell_type": "markdown",
   "metadata": {},
   "source": [
    "The circuit for preparing state with the first test instance:"
   ]
  },
  {
   "cell_type": "code",
   "execution_count": 11,
   "metadata": {
    "ExecuteTime": {
     "end_time": "2019-02-01T23:26:53.878539Z",
     "start_time": "2019-02-01T23:26:52.591175Z"
    }
   },
   "outputs": [
    {
     "data": {
      "text/html": [
       "<pre style=\"word-wrap: normal;white-space: pre;background: #fff0;line-height: 1.1;font-family: &quot;Courier New&quot;,Courier,monospace\">      ┌───┐                                   ┌───┐        ░            ░      »\n",
       "q1_0: ┤ H ├──■───────────────────────■────────┤ X ├────────░───■────────░───■──»\n",
       "      ├───┤  │                       │        └───┘        ░   │  ┌───┐ ░   │  »\n",
       "q1_1: ┤ H ├──┼───────────────────────┼─────────────────────░───■──┤ X ├─░───■──»\n",
       "      └───┘┌─┴─┐┌─────────────────┐┌─┴─┐┌────────────────┐ ░ ┌─┴─┐└───┘ ░ ┌─┴─┐»\n",
       "q1_2: ─────┤ X ├┤ U3(-2.1521,0,0) ├┤ X ├┤ U3(2.1521,0,0) ├─░─┤ X ├──────░─┤ X ├»\n",
       "           └───┘└─────────────────┘└───┘└────────────────┘ ░ └───┘      ░ └───┘»\n",
       "q1_3: ─────────────────────────────────────────────────────░────────────░──────»\n",
       "                                                           ░            ░      »\n",
       "c1: 4/═════════════════════════════════════════════════════════════════════════»\n",
       "                                                                               »\n",
       "«                                                                 »\n",
       "«q1_0: ───────────────────────────────────────────────────■───────»\n",
       "«                                                         │       »\n",
       "«q1_1: ──■───────────────────────■────────────────────────■────■──»\n",
       "«      ┌─┴─┐┌─────────────────┐┌─┴─┐┌──────────────────┐┌─┴─┐┌─┴─┐»\n",
       "«q1_2: ┤ X ├┤ U3(0.33113,0,0) ├┤ X ├┤ U3(-0.33113,0,0) ├┤ X ├┤ X ├»\n",
       "«      └───┘└─────────────────┘└───┘└──────────────────┘└───┘└───┘»\n",
       "«q1_3: ───────────────────────────────────────────────────────────»\n",
       "«                                                                 »\n",
       "«c1: 4/═══════════════════════════════════════════════════════════»\n",
       "«                                                                 »\n",
       "«                                                   ░       ░ \n",
       "«q1_0: ─────────────────────────────────────────────░───────░─\n",
       "«                                                   ░       ░ \n",
       "«q1_1: ──────────────────────■──────────────────────░───■───░─\n",
       "«      ┌──────────────────┐┌─┴─┐┌─────────────────┐ ░   │   ░ \n",
       "«q1_2: ┤ U3(-0.33113,0,0) ├┤ X ├┤ U3(0.33113,0,0) ├─░───┼───░─\n",
       "«      └──────────────────┘└───┘└─────────────────┘ ░ ┌─┴─┐ ░ \n",
       "«q1_3: ─────────────────────────────────────────────░─┤ X ├─░─\n",
       "«                                                   ░ └───┘ ░ \n",
       "«c1: 4/═══════════════════════════════════════════════════════\n",
       "«                                                             </pre>"
      ],
      "text/plain": [
       "      ┌───┐                                   ┌───┐        ░            ░      »\n",
       "q1_0: ┤ H ├──■───────────────────────■────────┤ X ├────────░───■────────░───■──»\n",
       "      ├───┤  │                       │        └───┘        ░   │  ┌───┐ ░   │  »\n",
       "q1_1: ┤ H ├──┼───────────────────────┼─────────────────────░───■──┤ X ├─░───■──»\n",
       "      └───┘┌─┴─┐┌─────────────────┐┌─┴─┐┌────────────────┐ ░ ┌─┴─┐└───┘ ░ ┌─┴─┐»\n",
       "q1_2: ─────┤ X ├┤ U3(-2.1521,0,0) ├┤ X ├┤ U3(2.1521,0,0) ├─░─┤ X ├──────░─┤ X ├»\n",
       "           └───┘└─────────────────┘└───┘└────────────────┘ ░ └───┘      ░ └───┘»\n",
       "q1_3: ─────────────────────────────────────────────────────░────────────░──────»\n",
       "                                                           ░            ░      »\n",
       "c1: 4/═════════════════════════════════════════════════════════════════════════»\n",
       "                                                                               »\n",
       "«                                                                 »\n",
       "«q1_0: ───────────────────────────────────────────────────■───────»\n",
       "«                                                         │       »\n",
       "«q1_1: ──■───────────────────────■────────────────────────■────■──»\n",
       "«      ┌─┴─┐┌─────────────────┐┌─┴─┐┌──────────────────┐┌─┴─┐┌─┴─┐»\n",
       "«q1_2: ┤ X ├┤ U3(0.33113,0,0) ├┤ X ├┤ U3(-0.33113,0,0) ├┤ X ├┤ X ├»\n",
       "«      └───┘└─────────────────┘└───┘└──────────────────┘└───┘└───┘»\n",
       "«q1_3: ───────────────────────────────────────────────────────────»\n",
       "«                                                                 »\n",
       "«c1: 4/═══════════════════════════════════════════════════════════»\n",
       "«                                                                 »\n",
       "«                                                   ░       ░ \n",
       "«q1_0: ─────────────────────────────────────────────░───────░─\n",
       "«                                                   ░       ░ \n",
       "«q1_1: ──────────────────────■──────────────────────░───■───░─\n",
       "«      ┌──────────────────┐┌─┴─┐┌─────────────────┐ ░   │   ░ \n",
       "«q1_2: ┤ U3(-0.33113,0,0) ├┤ X ├┤ U3(0.33113,0,0) ├─░───┼───░─\n",
       "«      └──────────────────┘└───┘└─────────────────┘ ░ ┌─┴─┐ ░ \n",
       "«q1_3: ─────────────────────────────────────────────░─┤ X ├─░─\n",
       "«                                                   ░ └───┘ ░ \n",
       "«c1: 4/═══════════════════════════════════════════════════════\n",
       "«                                                             "
      ]
     },
     "execution_count": 11,
     "metadata": {},
     "output_type": "execute_result"
    }
   ],
   "source": [
    "from qiskit.tools.visualization import circuit_drawer\n",
    "angles = [test_angles[0], training_angle]\n",
    "state_preparation_0 = prepare_state(q, c, angles)\n",
    "circuit_drawer(state_preparation_0)"
   ]
  },
  {
   "cell_type": "markdown",
   "metadata": {},
   "source": [
    "Kernel on a shallow circuit"
   ]
  },
  {
   "cell_type": "code",
   "execution_count": 12,
   "metadata": {
    "ExecuteTime": {
     "end_time": "2019-02-01T23:26:53.884698Z",
     "start_time": "2019-02-01T23:26:53.880801Z"
    }
   },
   "outputs": [],
   "source": [
    "def interfere_data_and_test_instances(circuit, q, c, angles):\n",
    "    circuit.h(q[0])\n",
    "    circuit.barrier()\n",
    "    circuit.measure(q, c)\n",
    "    return circuit"
   ]
  },
  {
   "cell_type": "markdown",
   "metadata": {},
   "source": [
    "A measurement of the ancilla gives the outcome probability of observing 0 as $\\frac{1}{4N}\\sum_{i=1}^N |x_t + x_i|^2$. This creates a kernel of the following form:"
   ]
  },
  {
   "cell_type": "code",
   "execution_count": 13,
   "metadata": {
    "ExecuteTime": {
     "end_time": "2019-02-01T23:26:54.007377Z",
     "start_time": "2019-02-01T23:26:53.886046Z"
    }
   },
   "outputs": [
    {
     "data": {
      "text/plain": [
       "[<matplotlib.lines.Line2D at 0x2750b215a48>]"
      ]
     },
     "execution_count": 13,
     "metadata": {},
     "output_type": "execute_result"
    },
    {
     "data": {
      "image/png": "[encoded data removed]",
      "text/plain": [
       "<Figure size 432x288 with 1 Axes>"
      ]
     },
     "metadata": {
      "needs_background": "light"
     },
     "output_type": "display_data"
    }
   ],
   "source": [
    "import matplotlib.pyplot as plt\n",
    "import numpy as np\n",
    "%matplotlib inline\n",
    "x = np.linspace(-2, 2, 100)\n",
    "plt.xlim(-2, 2)\n",
    "plt.ylim(0, 1.1)\n",
    "plt.plot(x, 1-x**2/4)"
   ]
  },
  {
   "cell_type": "markdown",
   "metadata": {},
   "source": [
    "This is the kernel that performs the classification. Next step is to perform the post-selection on observing 0 on the measurement on the ancilla and calculate the probabilities of the test instance belonging to either class:"
   ]
  },
  {
   "cell_type": "code",
   "execution_count": 14,
   "metadata": {
    "ExecuteTime": {
     "end_time": "2019-02-01T23:26:54.017909Z",
     "start_time": "2019-02-01T23:26:54.009283Z"
    }
   },
   "outputs": [],
   "source": [
    "def postselect(result_counts):\n",
    "    total_samples = sum(result_counts.values())\n",
    "\n",
    "    # define lambda function that retrieves only results where the ancilla is in the |0> state\n",
    "    post_select = lambda counts: [(state, occurences) for state, occurences in counts.items() if state[-1] == '0']\n",
    "\n",
    "    # perform the postselection\n",
    "    postselection = dict(post_select(result_counts))\n",
    "    postselected_samples = sum(postselection.values())\n",
    "\n",
    "    print(f'Ancilla post-selection probability was found to be {postselected_samples/total_samples}')\n",
    "\n",
    "    retrieve_class = lambda binary_class: [occurences for state, occurences in postselection.items() if state[0] == str(binary_class)]\n",
    "\n",
    "    prob_class0 = sum(retrieve_class(0))/postselected_samples\n",
    "    prob_class1 = sum(retrieve_class(1))/postselected_samples\n",
    "\n",
    "    print('Probability for class 0 is', prob_class0)\n",
    "    print('Probability for class 1 is', prob_class1)"
   ]
  },
  {
   "cell_type": "markdown",
   "metadata": {},
   "source": [
    "This gives the results for the first instance as follows:"
   ]
  },
  {
   "cell_type": "code",
   "execution_count": 15,
   "metadata": {
    "ExecuteTime": {
     "end_time": "2019-02-01T23:26:54.546426Z",
     "start_time": "2019-02-01T23:26:54.019350Z"
    }
   },
   "outputs": [
    {
     "name": "stdout",
     "output_type": "stream",
     "text": [
      "Ancilla post-selection probability was found to be 0.7392578125\n",
      "Probability for class 0 is 0.6605019815059445\n",
      "Probability for class 1 is 0.3394980184940555\n"
     ]
    }
   ],
   "source": [
    "circuit_0 = interfere_data_and_test_instances(state_preparation_0, q, c, angles)\n",
    "job = execute(circuit_0, backend)\n",
    "result = job.result()\n",
    "postselect(result.get_counts(circuit_0))"
   ]
  },
  {
   "cell_type": "markdown",
   "metadata": {},
   "source": [
    "And for the second one:"
   ]
  },
  {
   "cell_type": "code",
   "execution_count": 16,
   "metadata": {
    "ExecuteTime": {
     "end_time": "2019-02-01T23:26:54.627141Z",
     "start_time": "2019-02-01T23:26:54.548825Z"
    }
   },
   "outputs": [
    {
     "name": "stdout",
     "output_type": "stream",
     "text": [
      "Ancilla post-selection probability was found to be 0.9140625\n",
      "Probability for class 0 is 0.5288461538461539\n",
      "Probability for class 1 is 0.47115384615384615\n"
     ]
    }
   ],
   "source": [
    "angles = [test_angles[1], training_angle]\n",
    "state_preparation_1 = prepare_state(q, c, angles)\n",
    "circuit_1 = interfere_data_and_test_instances(state_preparation_1, q, c, angles)\n",
    "job = execute(circuit_1, backend)\n",
    "result = job.result()\n",
    "postselect(result.get_counts(circuit_1))"
   ]
  },
  {
   "cell_type": "markdown",
   "metadata": {},
   "source": [
    "# References\n",
    "\n",
    "[95] M. Schuld, M. Fingerhuth, F. Petruccione. (2017). [Implementing a distance-based classifier with a quantum interference circuit](https://doi.org/10.1209/0295-5075/119/60002). *Europhysics Letters*, 119(6), 60002. <a id='1'></a>"
   ]
  },
  {
   "cell_type": "code",
   "execution_count": null,
   "metadata": {},
   "outputs": [],
   "source": []
  }
 ],
 "metadata": {
  "kernelspec": {
   "display_name": "Python 3",
   "language": "python",
   "name": "python3"
  },
  "language_info": {
   "codemirror_mode": {
    "name": "ipython",
    "version": 3
   },
   "file_extension": ".py",
   "mimetype": "text/x-python",
   "name": "python",
   "nbconvert_exporter": "python",
   "pygments_lexer": "ipython3",
   "version": "3.7.10"
  },
  "varInspector": {
   "cols": {
    "lenName": 16,
    "lenType": 16,
    "lenVar": 40
   },
   "kernels_config": {
    "python": {
     "delete_cmd_postfix": "",
     "delete_cmd_prefix": "del ",
     "library": "var_list.py",
     "varRefreshCmd": "print(var_dic_list())"
    },
    "r": {
     "delete_cmd_postfix": ") ",
     "delete_cmd_prefix": "rm(",
     "library": "var_list.r",
     "varRefreshCmd": "cat(var_dic_list()) "
    }
   },
   "types_to_exclude": [
    "module",
    "function",
    "builtin_function_or_method",
    "instance",
    "_Feature"
   ],
   "window_display": false
  }
 },
 "nbformat": 4,
 "nbformat_minor": 2
}
