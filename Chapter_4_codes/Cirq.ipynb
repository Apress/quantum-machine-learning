{
 "cells": [
  {
   "cell_type": "markdown",
   "metadata": {},
   "source": [
    "## Chapter 4: Quantum Circuits - Cirq"
   ]
  },
  {
   "cell_type": "code",
   "execution_count": 9,
   "metadata": {},
   "outputs": [],
   "source": [
    "import cirq\n",
    "import numpy as np"
   ]
  },
  {
   "cell_type": "code",
   "execution_count": 10,
   "metadata": {},
   "outputs": [
    {
     "name": "stdout",
     "output_type": "stream",
     "text": [
      "                                             (0, 5)────(0, 6)\n",
      "                                             │         │\n",
      "                                             │         │\n",
      "                                    (1, 4)───(1, 5)────(1, 6)────(1, 7)\n",
      "                                    │        │         │         │\n",
      "                                    │        │         │         │\n",
      "                           (2, 3)───(2, 4)───(2, 5)────(2, 6)────(2, 7)───(2, 8)\n",
      "                           │        │        │         │         │        │\n",
      "                           │        │        │         │         │        │\n",
      "                  (3, 2)───(3, 3)───(3, 4)───(3, 5)────(3, 6)────(3, 7)───(3, 8)───(3, 9)\n",
      "                  │        │        │        │         │         │        │        │\n",
      "                  │        │        │        │         │         │        │        │\n",
      "         (4, 1)───(4, 2)───(4, 3)───(4, 4)───(4, 5)────(4, 6)────(4, 7)───(4, 8)───(4, 9)───(4, 10)\n",
      "         │        │        │        │        │         │         │        │        │        │\n",
      "         │        │        │        │        │         │         │        │        │        │\n",
      "(5, 0)───(5, 1)───(5, 2)───(5, 3)───(5, 4)───(5, 5)────(5, 6)────(5, 7)───(5, 8)───(5, 9)───(5, 10)───(5, 11)\n",
      "         │        │        │        │        │         │         │        │        │        │\n",
      "         │        │        │        │        │         │         │        │        │        │\n",
      "         (6, 1)───(6, 2)───(6, 3)───(6, 4)───(6, 5)────(6, 6)────(6, 7)───(6, 8)───(6, 9)───(6, 10)\n",
      "                  │        │        │        │         │         │        │        │\n",
      "                  │        │        │        │         │         │        │        │\n",
      "                  (7, 2)───(7, 3)───(7, 4)───(7, 5)────(7, 6)────(7, 7)───(7, 8)───(7, 9)\n",
      "                           │        │        │         │         │        │\n",
      "                           │        │        │         │         │        │\n",
      "                           (8, 3)───(8, 4)───(8, 5)────(8, 6)────(8, 7)───(8, 8)\n",
      "                                    │        │         │         │\n",
      "                                    │        │         │         │\n",
      "                                    (9, 4)───(9, 5)────(9, 6)────(9, 7)\n",
      "                                             │         │\n",
      "                                             │         │\n",
      "                                             (10, 5)───(10, 6)\n"
     ]
    }
   ],
   "source": [
    "print(cirq.google.Bristlecone)"
   ]
  },
  {
   "cell_type": "code",
   "execution_count": 43,
   "metadata": {},
   "outputs": [],
   "source": [
    "import warnings\n",
    "warnings.filterwarnings('ignore')\n",
    "# Get a qubit and a circuit\n",
    "qbit = cirq.LineQubit(0)\n",
    "circuit = cirq.Circuit()\n",
    "# Add an X gate: acts like the Pauli Matrix sigma_x\n",
    "circuit.append(cirq.X(qbit))"
   ]
  },
  {
   "cell_type": "code",
   "execution_count": 44,
   "metadata": {},
   "outputs": [
    {
     "name": "stdout",
     "output_type": "stream",
     "text": [
      "\n",
      "Bloch Sphere of the qubit in the final state:\n",
      "x:  0.0  y:  0.0  z:  -1.0\n"
     ]
    }
   ],
   "source": [
    "# Run a simple simulation that extracts the wavefunction of this state\n",
    "sim = cirq.Simulator()\n",
    "result = sim.simulate(circuit)\n",
    "print(\"\\nBloch Sphere of the qubit in the final state:\")\n",
    "state = cirq.bloch_vector_from_state_vector(result.final_state,0)\n",
    "print(\"x: \", np.around(state[0], 4), \" y: \", np.around(state[1], 4),\n",
    "\" z: \", np.around(state[2], 4))"
   ]
  },
  {
   "cell_type": "code",
   "execution_count": 45,
   "metadata": {},
   "outputs": [
    {
     "name": "stdout",
     "output_type": "stream",
     "text": [
      "\n",
      "Circuit:\n",
      "0: ───X───M('Final state')───\n"
     ]
    }
   ],
   "source": [
    "# Add a measurement at the end of the circuit:\n",
    "circuit.append(cirq.measure(qbit, key=\"Final state\"))\n",
    "# Display the circuit:\n",
    "print(\"\\nCircuit:\")\n",
    "print(circuit)"
   ]
  },
  {
   "cell_type": "code",
   "execution_count": 46,
   "metadata": {},
   "outputs": [],
   "source": [
    "# Invoke the Cirq quantum simulator to execute the circuit:\n",
    "simulator = cirq.Simulator()\n",
    "# Simulate the circuit several times:\n",
    "result = simulator.run(circuit, repetitions=10)"
   ]
  },
  {
   "cell_type": "code",
   "execution_count": 47,
   "metadata": {},
   "outputs": [
    {
     "name": "stdout",
     "output_type": "stream",
     "text": [
      "\n",
      "Results of 10 trials:\n",
      "Final state=1111111111\n"
     ]
    }
   ],
   "source": [
    "# Print the results:\n",
    "print(\"\\nResults of 10 trials:\")\n",
    "print(result)"
   ]
  },
  {
   "cell_type": "markdown",
   "metadata": {},
   "source": [
    "## Bell States"
   ]
  },
  {
   "cell_type": "code",
   "execution_count": 48,
   "metadata": {},
   "outputs": [
    {
     "name": "stdout",
     "output_type": "stream",
     "text": [
      "\n",
      "Bloch Sphere of the qubit 0 in the final state:\n",
      "x:  0.0  y:  0.0  z:  0.0\n",
      "\n",
      "Bloch Sphere of the qubit 1 in the final state:\n",
      "x:  0.0  y:  0.0  z:  0.0\n"
     ]
    }
   ],
   "source": [
    "# Get two qubits and a circuit\n",
    "qubit = [cirq.LineQubit(x) for x in range(2)]\n",
    "circuit = cirq.Circuit()\n",
    "# Add a Hadamard gate to qubit 0, then a CNOT gate from qubit 0 to qubit 1:\n",
    "circuit.append([cirq.H(qubit[0]),\n",
    "cirq.CNOT(qubit[0], qubit[1])])\n",
    "# Run a simple simulation that extracts the actual final states\n",
    "sim = cirq.Simulator()\n",
    "result = sim.simulate(circuit)\n",
    "print(\"\\nBloch Sphere of the qubit 0 in the final state:\")\n",
    "state = cirq.bloch_vector_from_state_vector(result.final_state,0)\n",
    "print(\"x: \", np.around(state[0], 4), \" y: \", np.around(state[1], 4),\n",
    "\" z: \", np.around(state[2], 4))\n",
    "print(\"\\nBloch Sphere of the qubit 1 in the final state:\")\n",
    "state = cirq.bloch_vector_from_state_vector(result.final_state,1)\n",
    "print(\"x: \", np.around(state[0], 4), \" y: \", np.around(state[1], 4),\n",
    "\" z: \", np.around(state[2], 4))"
   ]
  },
  {
   "cell_type": "code",
   "execution_count": 49,
   "metadata": {},
   "outputs": [
    {
     "name": "stdout",
     "output_type": "stream",
     "text": [
      "\n",
      "Circuit:\n",
      "0: ───H───@───M('Final state')───\n",
      "          │   │\n",
      "1: ───────X───M──────────────────\n"
     ]
    }
   ],
   "source": [
    "# Add a measurement at the end of the circuit:\n",
    "circuit.append(cirq.measure(*qubit, key=\"Final state\"))\n",
    "# Display the circuit:\n",
    "print(\"\\nCircuit:\")\n",
    "print(circuit)"
   ]
  },
  {
   "cell_type": "code",
   "execution_count": 50,
   "metadata": {},
   "outputs": [
    {
     "name": "stdout",
     "output_type": "stream",
     "text": [
      "\n",
      "Results:\n",
      "Final state=1000101001, 1000101001\n"
     ]
    }
   ],
   "source": [
    "# Invoke the Cirq quantum simulator to execute the circuit:\n",
    "simulator = cirq.Simulator()\n",
    "# Simulate the circuit several times:\n",
    "result = simulator.run(circuit, repetitions=10)\n",
    "# Print the results:\n",
    "print(\"\\nResults:\")\n",
    "print(result)"
   ]
  },
  {
   "cell_type": "markdown",
   "metadata": {},
   "source": [
    "## Quantum Teleportation\n",
    "\n",
    "Quantum teleportation is a process by which a quantum qubit state can be transmitted by sending only two classical bits of information. This option works by distributing entangled quantum particles. These entangled particles, once distributed in a controlled manner between two ends, create virtual channels. "
   ]
  },
  {
   "cell_type": "code",
   "execution_count": 51,
   "metadata": {},
   "outputs": [],
   "source": [
    "import random\n",
    "# Define three qubits: msg = qubit[0], qalice = qubit[1], qbob = qubit[2]\n",
    "qubit=[0]*(3)\n",
    "qubit[0] = cirq.NamedQubit('msg')\n",
    "qubit[1] = cirq.NamedQubit('qalice')\n",
    "qubit[2] = cirq.NamedQubit('qbob')\n",
    "circuit = cirq.Circuit()\n",
    "# Create a Bell state entangled pair to be shared between Alice and Bob.\n",
    "circuit.append([cirq.H(qubit[1]), cirq.CNOT(qubit[1], qubit[2])])\n",
    "# Creates a random state for the Message.\n",
    "ranX = random.random()\n",
    "ranY = random.random()\n",
    "circuit.append([cirq.X(qubit[0])**ranX, cirq.Y(qubit[0])**ranY])"
   ]
  },
  {
   "cell_type": "code",
   "execution_count": 52,
   "metadata": {},
   "outputs": [],
   "source": [
    "# Unitary operator rotating the two-qubit basis of the Message and Alice's entangled qubit;\n",
    "# rotates the Bell state basis to the computational basis:\n",
    "circuit.append([cirq.CNOT(qubit[0], qubit[1]), cirq.H(qubit[0])])\n",
    "# Combining now with a measurment in the computational basis,\n",
    "# we effectively have projected this two-qubit state onto one of the four states of\n",
    "# the Bell state basis:\n",
    "circuit.append(cirq.measure(qubit[0], qubit[1]))"
   ]
  },
  {
   "cell_type": "code",
   "execution_count": 53,
   "metadata": {},
   "outputs": [
    {
     "name": "stdout",
     "output_type": "stream",
     "text": [
      "Circuit:\n",
      "msg: ──────X^0.564───Y^0.54───@───H───M───────@───\n",
      "                              │       │       │\n",
      "qalice: ───H─────────@────────X───────M───@───┼───\n",
      "                     │                    │   │\n",
      "qbob: ───────────────X────────────────────X───@───\n"
     ]
    }
   ],
   "source": [
    "# Use the two classical bits from the Bell measurement to recover the\n",
    "# original quantum Message on Bob's entangled qubit.\n",
    "circuit.append([cirq.CNOT(qubit[1], qubit[2]), cirq.CZ(qubit[0], qubit[2])])\n",
    "print(\"Circuit:\")\n",
    "print(circuit)"
   ]
  },
  {
   "cell_type": "code",
   "execution_count": 54,
   "metadata": {},
   "outputs": [
    {
     "name": "stdout",
     "output_type": "stream",
     "text": [
      "\n",
      "Bloch Sphere of the Message qubit in the initial state:\n",
      "x:  -0.1992  y:  -0.9796  z:  0.0252\n"
     ]
    }
   ],
   "source": [
    "sim = cirq.Simulator()\n",
    "# Run a simple simulation that applies the random X and Y gates that\n",
    "# create our message.\n",
    "q0 = cirq.LineQubit(0)\n",
    "message = sim.simulate(cirq.Circuit([cirq.X(q0)**ranX, cirq.Y(q0)**ranY]))\n",
    "print(\"\\nBloch Sphere of the Message qubit in the initial state:\")\n",
    "expected = cirq.bloch_vector_from_state_vector(message.final_state,0)\n",
    "print(\"x: \", np.around(expected[0], 4), \" y: \", np.around(expected[1], 4),\n",
    "\" z: \", np.around(expected[2], 4))"
   ]
  },
  {
   "cell_type": "code",
   "execution_count": 55,
   "metadata": {},
   "outputs": [
    {
     "name": "stdout",
     "output_type": "stream",
     "text": [
      "\n",
      "Bloch Sphere of Bob's qubit in the final state:\n",
      "x:  -0.1992  y:  -0.9796  z:  0.0252\n",
      "\n",
      "Bloch Sphere of the Message qubit in the final state:\n",
      "x:  0.0  y:  0.0  z:  -1.0\n"
     ]
    }
   ],
   "source": [
    "# Records the final state of the simulation.\n",
    "final_results = sim.simulate(circuit)\n",
    "print(\"\\nBloch Sphere of Bob's qubit in the final state:\")\n",
    "teleported = cirq.bloch_vector_from_state_vector(\n",
    "final_results.final_state, 2)\n",
    "print(\"x: \", np.around(teleported[0], 4), \" y: \",\n",
    "np.around(teleported[1], 4), \" z: \", np.around(teleported[2], 4))\n",
    "print(\"\\nBloch Sphere of the Message qubit in the final state:\")\n",
    "message_final = cirq.bloch_vector_from_state_vector(\n",
    "final_results.final_state, 0)\n",
    "print(\"x: \", np.around(message_final[0], 4), \" y: \", np.around(message_final[1], 4), \" z: \", np.around(message_final[2], 4))"
   ]
  },
  {
   "cell_type": "code",
   "execution_count": null,
   "metadata": {},
   "outputs": [],
   "source": []
  }
 ],
 "metadata": {
  "kernelspec": {
   "display_name": "Python 3",
   "language": "python",
   "name": "python3"
  },
  "language_info": {
   "codemirror_mode": {
    "name": "ipython",
    "version": 3
   },
   "file_extension": ".py",
   "mimetype": "text/x-python",
   "name": "python",
   "nbconvert_exporter": "python",
   "pygments_lexer": "ipython3",
   "version": "3.7.10"
  }
 },
 "nbformat": 4,
 "nbformat_minor": 4
}
