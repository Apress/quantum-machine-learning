{
 "cells": [
  {
   "cell_type": "markdown",
   "metadata": {},
   "source": [
    "## Chapter 4: Deutsch's Algorithm"
   ]
  },
  {
   "cell_type": "code",
   "execution_count": 16,
   "metadata": {},
   "outputs": [],
   "source": [
    "# Import libraries\n",
    "\n",
    "import cirq\n",
    "from cirq import H, X, CNOT, measure\n",
    "import numpy as np\n",
    "import random"
   ]
  },
  {
   "cell_type": "markdown",
   "metadata": {},
   "source": [
    "### Define functions for the circuit"
   ]
  },
  {
   "cell_type": "code",
   "execution_count": 17,
   "metadata": {},
   "outputs": [],
   "source": [
    "def main():\n",
    "    # Choose qubits to use.\n",
    "    q0, q1 = cirq.LineQubit.range(2)\n",
    "\n",
    "    # Pick a secret 2-bit function and create a circuit to query the oracle.\n",
    "    secret_function = [random.randint(0, 1) for _ in range(2)]\n",
    "    oracle = moracle(q0, q1, secret_function)\n",
    "    print('Secret function:\\nf(x) = <{}>'.format(\n",
    "        ', '.join(str(e) for e in secret_function)))\n",
    "\n",
    "    # Embed the oracle into a quantum circuit querying it exactly once.\n",
    "    circuit = deutsch_circuit(q0, q1, oracle)\n",
    "    print('Circuit:')\n",
    "    print(circuit)\n",
    "\n",
    "    # Simulate the circuit.\n",
    "    simulator = cirq.Simulator()\n",
    "    result = simulator.run(circuit)\n",
    "    print('Result of f(0)⊕f(1):')\n",
    "    print(result)\n",
    "\n",
    "\n",
    "def moracle(q0, q1, secret_function):\n",
    "    \"\"\" Gates implementing the secret function f(x).\"\"\"\n",
    "\n",
    "    # coverage: ignore\n",
    "    if secret_function[0]:\n",
    "        yield [CNOT(q0, q1), X(q1)]\n",
    "\n",
    "    if secret_function[1]:\n",
    "        yield CNOT(q0, q1)\n",
    "\n"
   ]
  },
  {
   "cell_type": "code",
   "execution_count": 18,
   "metadata": {},
   "outputs": [],
   "source": [
    "def deutsch_circuit(q0, q1, oracle):\n",
    "    c = cirq.Circuit()\n",
    "\n",
    "    # Initialize qubits.\n",
    "    c.append([X(q1), H(q1), H(q0)])\n",
    "\n",
    "    # Query oracle.\n",
    "    c.append(oracle)\n",
    "\n",
    "    # Measure in X basis.\n",
    "    c.append([H(q0), measure(q0, key='result')])\n",
    "    return c"
   ]
  },
  {
   "cell_type": "code",
   "execution_count": 19,
   "metadata": {},
   "outputs": [
    {
     "name": "stdout",
     "output_type": "stream",
     "text": [
      "Secret function:\n",
      "f(x) = <1, 0>\n",
      "Circuit:\n",
      "0: ───H───────@───H───M('result')───\n",
      "              │\n",
      "1: ───X───H───X───X─────────────────\n",
      "Result of f(0)⊕f(1):\n",
      "result=1\n"
     ]
    }
   ],
   "source": [
    "if __name__ == '__main__':\n",
    "    main()"
   ]
  }
 ],
 "metadata": {
  "kernelspec": {
   "display_name": "Python 3",
   "language": "python",
   "name": "python3"
  },
  "language_info": {
   "codemirror_mode": {
    "name": "ipython",
    "version": 3
   },
   "file_extension": ".py",
   "mimetype": "text/x-python",
   "name": "python",
   "nbconvert_exporter": "python",
   "pygments_lexer": "ipython3",
   "version": "3.7.10"
  }
 },
 "nbformat": 4,
 "nbformat_minor": 4
}
