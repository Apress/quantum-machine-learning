{
 "cells": [
  {
   "cell_type": "markdown",
   "metadata": {},
   "source": [
    "## Chapter 4: von Neumann Entropy and Evolution of State Vector"
   ]
  },
  {
   "cell_type": "code",
   "execution_count": 42,
   "metadata": {},
   "outputs": [],
   "source": [
    "import numpy as np\n",
    "from qiskit import *\n",
    "import math as m\n",
    "from scipy import linalg as la\n",
    "%matplotlib inline"
   ]
  },
  {
   "cell_type": "code",
   "execution_count": 43,
   "metadata": {},
   "outputs": [
    {
     "name": "stdout",
     "output_type": "stream",
     "text": [
      "2.584962500721156\n"
     ]
    }
   ],
   "source": [
    "# Compute Shannon Entropy of random variable for six sided die\n",
    "SH = -m.log2(1/6)\n",
    "print(SH)"
   ]
  },
  {
   "cell_type": "markdown",
   "metadata": {},
   "source": [
    "## von Neumann Entropy ##"
   ]
  },
  {
   "cell_type": "markdown",
   "metadata": {},
   "source": [
    "The Shannon entropy measure uncertainty related to a *classical probability distribution*. The density operators were a way of describing possible states of a quantum system, or equivalently possible outcomes of measurements, in a way very similar to probability distributions. The **von Neumann Entropy** of a quantum state $\\rho$ (where $\\rho$ is a density matrix) is defined to be\n",
    "\n",
    "\\begin{align}\n",
    "S(\\rho) = -Tr(\\rho \\log(\\rho)).\n",
    "\\end{align}\n",
    "\n",
    "Here, the lograithm is now a *matrix logarithm*, which is also taken to be base $2$. If we let $\\{\\lambda_k\\}$ be the complete set of *eigenvalues* of the matrix $\\rho$, then we can also define the von Neumann entropy as\n",
    "\n",
    "\\begin{align}\n",
    "S(\\rho) = -\\sum_k \\lambda_k \\log(\\lambda_k). \n",
    "\\end{align}\n",
    "\n",
    "The logarithm of a matrix, like exponentials and trigonometric functions of matrices, can be defined in terms of a power series. Assuming $||A-I|| < 1$, then the following power series is convergent and defines the lograithm of a matrix,\n",
    "\n",
    "\\begin{align}\n",
    "\\log(A) &= \\sum_{k=1}^{\\infty} (-1)^{k+1}\\frac{(A-I)^k}{k} \\\\\n",
    "&= (A-I) - \\frac{(A-I)^2}{2} + \\frac{(A-I)^3}{3} \\cdots. \n",
    "\\end{align}\n",
    "\n",
    "Matrix logarithms can be computed in Python using `scipy.linalg.logm()`. We have already imported `linalg` as `la` from SciPy. Let's look at an example. Take the matrix\n",
    "\n",
    "\\begin{align}\n",
    "\\rho &= \\frac{1}{3} |l\\rangle \\langle l| + \\frac{2}{3}|0\\rangle \\langle 0| \\\\\n",
    "&=\\begin{pmatrix}\n",
    "5/6 & 1/6 \\\\\n",
    "1/6 & 1/6\n",
    "\\end{pmatrix}.\n",
    "\\end{align}"
   ]
  },
  {
   "cell_type": "code",
   "execution_count": 44,
   "metadata": {},
   "outputs": [
    {
     "data": {
      "text/plain": [
       "array([[-0.34306481,  0.62094884],\n",
       "       [ 0.62094884, -2.82686019]])"
      ]
     },
     "execution_count": 44,
     "metadata": {},
     "output_type": "execute_result"
    }
   ],
   "source": [
    "rho = np.matrix([[5/6, 1/6],\n",
    "                 [1/6, 1/6]])\n",
    "\n",
    "la.logm(rho)/la.logm(np.matrix([[2]]))"
   ]
  },
  {
   "cell_type": "markdown",
   "metadata": {},
   "source": [
    "The von Neumann entropy using the trace of this matrix:"
   ]
  },
  {
   "cell_type": "code",
   "execution_count": 45,
   "metadata": {},
   "outputs": [
    {
     "name": "stdout",
     "output_type": "stream",
     "text": [
      "[[0.55004776]]\n"
     ]
    }
   ],
   "source": [
    "S = -np.matrix.trace(rho*la.logm(rho)/la.logm(np.matrix([[2]])))\n",
    "print(S)"
   ]
  },
  {
   "cell_type": "markdown",
   "metadata": {},
   "source": [
    "This is a  1×1  matrix, i.e. a scalar value, as expected. Let's define a function for density matrices that computes the von Neumann entropy."
   ]
  },
  {
   "cell_type": "code",
   "execution_count": 46,
   "metadata": {},
   "outputs": [],
   "source": [
    "def von_neumann_entropy(rho):\n",
    "    import numpy as np\n",
    "    from scipy import linalg as la\n",
    "    R = rho*(la.logm(rho)/la.logm(np.matrix([[2]])))\n",
    "    S = -np.matrix.trace(R)\n",
    "    return(S)"
   ]
  },
  {
   "cell_type": "markdown",
   "metadata": {},
   "source": [
    "Test the function on the matrix rho"
   ]
  },
  {
   "cell_type": "code",
   "execution_count": 47,
   "metadata": {},
   "outputs": [
    {
     "data": {
      "text/plain": [
       "matrix([[0.55004776]])"
      ]
     },
     "execution_count": 47,
     "metadata": {},
     "output_type": "execute_result"
    }
   ],
   "source": [
    "von_neumann_entropy(rho)"
   ]
  },
  {
   "cell_type": "markdown",
   "metadata": {},
   "source": [
    "That appears to be correct.Next example, suppose we have a composite system with density operator given by \n",
    "\n",
    "\\begin{align}\n",
    "\\rho = \\rho_1 \\otimes \\rho_2\n",
    "\\end{align}\n",
    "\n",
    "where \n",
    "\n",
    "\\begin{align}\n",
    "\\rho_1 &= \n",
    "\\begin{pmatrix}\n",
    "5/6 & 1/6 \\\\\n",
    "1/6 & 1/6\n",
    "\\end{pmatrix}\\\\\n",
    "\\rho_2 &=\n",
    "\\begin{pmatrix}\n",
    "1/2 & 0 \\\\\n",
    "0 & 1/2\n",
    "\\end{pmatrix}.\n",
    "\\end{align}\n",
    "\n",
    "Let's compute $S(\\rho)$ using Python. First we compute the tensor product of the matrices using the `np.kron()` function in NumPy. "
   ]
  },
  {
   "cell_type": "code",
   "execution_count": 48,
   "metadata": {},
   "outputs": [
    {
     "name": "stdout",
     "output_type": "stream",
     "text": [
      "[[0.83333333 0.16666667]\n",
      " [0.16666667 0.16666667]]\n"
     ]
    }
   ],
   "source": [
    "rho1 = np.matrix([[5/6, 1/6],\n",
    "                  [1/6, 1/6]])\n",
    "\n",
    "rho2 = np.matrix([[1/2, 0],\n",
    "                  [0, 1/2]])\n",
    "\n",
    "rho3 = np.kron(rho1, rho2)\n",
    "\n",
    "print(rho)"
   ]
  },
  {
   "cell_type": "markdown",
   "metadata": {},
   "source": [
    "Apply our function von_neumann_entropy() to this matrix."
   ]
  },
  {
   "cell_type": "code",
   "execution_count": 49,
   "metadata": {},
   "outputs": [
    {
     "data": {
      "text/plain": [
       "matrix([[1.55004776]])"
      ]
     },
     "execution_count": 49,
     "metadata": {},
     "output_type": "execute_result"
    }
   ],
   "source": [
    "von_neumann_entropy(rho3)"
   ]
  },
  {
   "cell_type": "markdown",
   "metadata": {},
   "source": [
    "Define a function to compute the von Neumann entropy using the eigenvalues of the density matrix."
   ]
  },
  {
   "cell_type": "code",
   "execution_count": 50,
   "metadata": {},
   "outputs": [],
   "source": [
    "def vn_eig_entropy(rho):\n",
    "    import numpy as np\n",
    "    from scipy import linalg as la\n",
    "    import math as m\n",
    "    EV = la.eigvals(rho)\n",
    "    \n",
    "    # Drop zero eigenvalues so that log is defined\n",
    "    my_list = [x for x in EV.tolist() if x]\n",
    "    EV = np.array(my_list)\n",
    "    \n",
    "    log2_EV = np.matrix(np.log2(EV))\n",
    "    EV = np.matrix(EV)\n",
    "    S = -np.dot(EV, log2_EV.H)\n",
    "    return(S)"
   ]
  },
  {
   "cell_type": "code",
   "execution_count": 51,
   "metadata": {},
   "outputs": [
    {
     "data": {
      "text/plain": [
       "matrix([[1.55004776-0.j]])"
      ]
     },
     "execution_count": 51,
     "metadata": {},
     "output_type": "execute_result"
    }
   ],
   "source": [
    "vn_eig_entropy(rho3)"
   ]
  },
  {
   "cell_type": "markdown",
   "metadata": {},
   "source": [
    "As we see, using the eigenvalue version, we do get the same answer. Let's look at one more example. Take\n",
    "\n",
    "\\begin{align}\n",
    "\\rho_{GHZ} = \\frac{1}{3}|000\\rangle \\langle 000| + \\frac{2}{3}|111\\rangle \\langle 111|.\n",
    "\\end{align}\n",
    "\n",
    "Let's compute the von Neumann entropy of this density matrix based on the GHZ like state $\\frac{1}{3}|000\\rangle + \\frac{2}{3}|111\\rangle$ in Python."
   ]
  },
  {
   "cell_type": "code",
   "execution_count": 52,
   "metadata": {},
   "outputs": [
    {
     "name": "stdout",
     "output_type": "stream",
     "text": [
      "[[0.33333333 0.         0.         0.         0.         0.\n",
      "  0.         0.        ]\n",
      " [0.         0.         0.         0.         0.         0.\n",
      "  0.         0.        ]\n",
      " [0.         0.         0.         0.         0.         0.\n",
      "  0.         0.        ]\n",
      " [0.         0.         0.         0.         0.         0.\n",
      "  0.         0.        ]\n",
      " [0.         0.         0.         0.         0.         0.\n",
      "  0.         0.        ]\n",
      " [0.         0.         0.         0.         0.         0.\n",
      "  0.         0.        ]\n",
      " [0.         0.         0.         0.         0.         0.\n",
      "  0.         0.        ]\n",
      " [0.         0.         0.         0.         0.         0.\n",
      "  0.         0.66666667]]\n"
     ]
    }
   ],
   "source": [
    "u = np.matrix([[1],\n",
    "               [0]])\n",
    "\n",
    "d = np.matrix([[0],\n",
    "               [1]])\n",
    "\n",
    "uuu = np.kron(u, np.kron(u,u))\n",
    "\n",
    "ddd = np.kron(d, np.kron(d,d))\n",
    "\n",
    "GHZ = np.dot(uuu, uuu.H)/3 + 2*np.dot(ddd, ddd.H)/3\n",
    "\n",
    "print(GHZ)"
   ]
  },
  {
   "cell_type": "code",
   "execution_count": 53,
   "metadata": {},
   "outputs": [
    {
     "name": "stderr",
     "output_type": "stream",
     "text": [
      "C:\\Users\\santagan\\Anaconda3\\lib\\site-packages\\scipy\\linalg\\_matfuncs_inv_ssq.py:829: LogmExactlySingularWarning: The logm input matrix is exactly singular.\n",
      "  warnings.warn(exact_singularity_msg, LogmExactlySingularWarning)\n"
     ]
    },
    {
     "data": {
      "text/plain": [
       "matrix([[0.91829583]])"
      ]
     },
     "execution_count": 53,
     "metadata": {},
     "output_type": "execute_result"
    }
   ],
   "source": [
    "von_neumann_entropy(GHZ)"
   ]
  },
  {
   "cell_type": "code",
   "execution_count": 54,
   "metadata": {},
   "outputs": [
    {
     "data": {
      "text/plain": [
       "matrix([[0.91829583-0.j]])"
      ]
     },
     "execution_count": 54,
     "metadata": {},
     "output_type": "execute_result"
    }
   ],
   "source": [
    "vn_eig_entropy(GHZ)"
   ]
  },
  {
   "cell_type": "markdown",
   "metadata": {},
   "source": [
    "Finally, let's generate a random density matrix $\\rho$ using the Qiskit function `random_density_matrix()`. This function's first argument is the dimension of the desired density matrix, which need not be a power of two. However, in the context of quantum circuits with qubits, it is important we make this restriction manually. There are of course more general systems involving things such as \"*qudits*\" which might yield arbitrary dimensional density matrices. \n",
    "\n",
    "## Pure States, Mixed States, and von Neumann Entropy\n",
    "\n",
    "For pure states $\\rho$, the density matrix is **idempotent**, meaning $\\rho^2 = \\rho$. In this case the von Neumann entropy will vanish. To see this, let's take a one parameter family of density matrices with parameter $p$, \n",
    "\n",
    "\\begin{align}\n",
    "\\rho(p) &= p|0\\rangle \\langle 0| + (1-p)|1\\rangle \\langle 1| \\\\\n",
    "&= p\n",
    "\\begin{pmatrix}\n",
    "1 & 0 \\\\\n",
    "0 & 0\n",
    "\\end{pmatrix} + \n",
    "(1-p)\n",
    "\\begin{pmatrix}\n",
    "0 & 0 \\\\\n",
    "0 & 1\n",
    "\\end{pmatrix} \\\\\n",
    "&= \n",
    "\\begin{pmatrix}\n",
    "p & 0 \\\\\n",
    "0 & 1-p\n",
    "\\end{pmatrix}.\n",
    "\\end{align}\n",
    "\n",
    "The definition of von Neumann entropy then tells us that \n",
    "\n",
    "\\begin{align}\n",
    "S(\\rho(p)) = -(p\\log(p) + (1-p)\\log(1-p)).\n",
    "\\end{align}\n",
    "\n",
    "Set $0 \\log(0) \\equiv 0$. For $p = 0$ this becomes\n",
    "\n",
    "\\begin{align}\n",
    "S(\\rho(0)) = \\log(1) = 0, \n",
    "\\end{align}\n",
    "\n",
    "and for $p = 1$ this becomes\n",
    "\n",
    "\\begin{align}\n",
    "S(\\rho(1)) = \\log(1) = 0.\n",
    "\\end{align}\n",
    "\n",
    "Notice, this corresponds exactly to the two pure states\n",
    "\n",
    "\\begin{align}\n",
    "|0\\rangle \\langle 0| &=\n",
    "\\begin{pmatrix}\n",
    "1 & 0 \\\\\n",
    "0 & 0\n",
    "\\end{pmatrix} \\\\\n",
    "|1\\rangle \\langle 1| &=\n",
    "\\begin{pmatrix}\n",
    "0 & 0 \\\\\n",
    "0 & 1\n",
    "\\end{pmatrix}.\n",
    "\\end{align}\n",
    "\n",
    "For any value of $0 < p < 1$ we have a nonzero value for the von Neumann entropy. We can plot these values as follows. "
   ]
  },
  {
   "cell_type": "code",
   "execution_count": 55,
   "metadata": {},
   "outputs": [],
   "source": [
    "# Spin-up\n",
    "u = np.matrix([[1],\n",
    "               [0]])\n",
    "\n",
    "# Spin-down\n",
    "d = np.matrix([[0],\n",
    "               [1]])\n",
    "\n",
    "# Pure state |0><0|\n",
    "P11 = np.dot(u, u.H)\n",
    "\n",
    "# Pure state |1><1|\n",
    "P22 = np.dot(d, d.H)"
   ]
  },
  {
   "cell_type": "code",
   "execution_count": 56,
   "metadata": {},
   "outputs": [
    {
     "data": {
      "image/png": "[encoded data removed]",
      "text/plain": [
       "<Figure size 432x288 with 1 Axes>"
      ]
     },
     "metadata": {
      "needs_background": "light"
     },
     "output_type": "display_data"
    }
   ],
   "source": [
    "import matplotlib.pyplot as plt\n",
    "\n",
    "p = np.arange(0.001, 1., 0.01)\n",
    "\n",
    "# create list of von Neumann entropies\n",
    "vn_y = list()\n",
    "for value in p:\n",
    "    rho_p = value*P11 + (1-value)*(P22)\n",
    "    vn_y.append(von_neumann_entropy(rho_p))\n",
    "\n",
    "# convert list of matrices to list of numbers for plotting\n",
    "y = list()\n",
    "for value in vn_y:\n",
    "    y.append(value.tolist()[0][0])\n",
    "\n",
    "# plot p vs. S(rho_p)\n",
    "plt.xlabel('p')\n",
    "plt.ylabel('von Neumann Entropy')\n",
    "plt.title('S(rho_p)')\n",
    "plt.plot(p, y, color='tab:red')\n",
    "plt.show()"
   ]
  },
  {
   "cell_type": "markdown",
   "metadata": {},
   "source": [
    "A comparison of the above von Neumann plot to the classical Shannon entropy of \n",
    "\n",
    "\\begin{align}\n",
    "H(p, 1-p) = -(p\\log(p) + (1-p)\\log(1-p))\n",
    "\\end{align}\n",
    "\n",
    "show that they are in fact the same. \n",
    "\n",
    "Following is a slightly different example of a one parameter family of density matrices,\n",
    "\n",
    "\\begin{align}\n",
    "\\rho(p) &= p(|0\\rangle \\langle 0|+|1\\rangle \\langle 1|) + (1-p) \\frac{(|0\\rangle + |1\\rangle )(\\langle 0| + \\langle 1|)}{2}\\\\\n",
    "&= \\frac{p}{2}\n",
    "\\begin{pmatrix}\n",
    "1 & 0 \\\\\n",
    "0 & 1\n",
    "\\end{pmatrix} + \\frac{(1-p)}{2}\n",
    "\\begin{pmatrix}\n",
    "1 & 1 \\\\\n",
    "1 & 1\n",
    "\\end{pmatrix} \\\\\n",
    "&= \n",
    "\\begin{pmatrix}\n",
    "p/2 & 0 \\\\\n",
    "0 & p/2\n",
    "\\end{pmatrix} + \n",
    "\\begin{pmatrix}\n",
    "(1-p)/2 & (1-p)/2 \\\\\n",
    "(1-p)/2 & (1-p)/2\n",
    "\\end{pmatrix}.\n",
    "\\end{align}"
   ]
  },
  {
   "cell_type": "code",
   "execution_count": 57,
   "metadata": {},
   "outputs": [],
   "source": [
    "# Define spin-up\n",
    "u = np.matrix([[1],\n",
    "               [0]])\n",
    "\n",
    "# Define spin-down\n",
    "d = np.matrix([[0],\n",
    "               [1]])\n",
    "\n",
    "# Define the pure state |0><0|\n",
    "P11 = np.dot(u, u.H)\n",
    "\n",
    "# Define the pure state |0><1|\n",
    "P12 = np.dot(u, d.H)\n",
    "\n",
    "# Define the pure state |1><0|\n",
    "P21 = np.dot(d, u.H)\n",
    "\n",
    "# Define the pure state |1><1|\n",
    "P22 = np.dot(d, d.H)\n",
    "\n",
    "# Define the mixed state |0><0| + |1><1|\n",
    "I = (P11+P22)/2\n",
    "\n",
    "# Define the pure state |0><0|+|0><1|+|1><0|+|1><1|\n",
    "D = (P11+P12+P21+P22)/2"
   ]
  },
  {
   "cell_type": "code",
   "execution_count": 58,
   "metadata": {},
   "outputs": [
    {
     "data": {
      "image/png": "[encoded data removed]",
      "text/plain": [
       "<Figure size 432x288 with 1 Axes>"
      ]
     },
     "metadata": {
      "needs_background": "light"
     },
     "output_type": "display_data"
    }
   ],
   "source": [
    "p = np.arange(0.001, 1., 0.01)\n",
    "\n",
    "# Create list of von Neumann entropies\n",
    "vn_y = list()\n",
    "for value in p:\n",
    "    rho = value*I + (1-value)*(D)\n",
    "    vn_y.append(von_neumann_entropy(rho))\n",
    "\n",
    "# convert list of matrices to list of numbers for plotting\n",
    "y = list()\n",
    "for value in vn_y:\n",
    "    y.append(value.tolist()[0][0])\n",
    "\n",
    "    \n",
    "# plot p vs. S(rho_p)\n",
    "plt.xlabel('p')\n",
    "plt.ylabel('von Neumann Entropy')\n",
    "plt.title('S(rho_p)')\n",
    "plt.plot(p, y, color='tab:blue')\n",
    "plt.show()"
   ]
  },
  {
   "cell_type": "markdown",
   "metadata": {},
   "source": [
    "Please note how one side of the curve corresponds to the *pure state*\n",
    "\n",
    "\n",
    "\\begin{align}\n",
    "|\\psi\\rangle = \\frac{|0\\rangle + |1\\rangle}{\\sqrt{2}} = |+\\rangle,\n",
    "\\end{align}\n",
    "\n",
    "since \n",
    "\n",
    "\\begin{align}\n",
    "|+\\rangle \\langle +| = \n",
    "\\frac{1}{2}\n",
    "\\begin{pmatrix}\n",
    "1 & 1 \\\\\n",
    "1 & 1\n",
    "\\end{pmatrix}.\n",
    "\\end{align}\n",
    "\n",
    "The opposite side of the curve (to the far right) corresponds to the *mixed state*\n",
    "\n",
    "\\begin{align}\n",
    "\\frac{|0\\rangle \\langle 0|}{2} + \\frac{|1\\rangle \\langle 1|}{2} = \n",
    "\\begin{pmatrix}\n",
    "1/2 & 0 \\\\\n",
    "0 & 1/2\n",
    "\\end{pmatrix}.\n",
    "\\end{align}\n",
    "\n",
    "We can see as the system evolves from pure to mixed the von Neumann entropy approches $S(\\rho(1)) = 1$. In general, for finite systems the von Neumann entropy $S(\\rho)$ encodes the departure of the system from a pure state, and described the degree of mixing in the state. For zero mixing (pure states), the von Neumann entropy is always zero. "
   ]
  },
  {
   "cell_type": "markdown",
   "metadata": {},
   "source": [
    "## GHZ-state\n",
    "The following code creates a quantum circuit that prepares a GHZ-state, and prints the state vector as a column (ket) vector."
   ]
  },
  {
   "cell_type": "code",
   "execution_count": 59,
   "metadata": {},
   "outputs": [
    {
     "data": {
      "image/png": "[encoded data removed]",
      "text/plain": [
       "<Figure size 369.628x264.88 with 1 Axes>"
      ]
     },
     "execution_count": 59,
     "metadata": {},
     "output_type": "execute_result"
    }
   ],
   "source": [
    "from qiskit import *\n",
    "import numpy as np\n",
    "%matplotlib inline\n",
    "\n",
    "qr = QuantumRegister(3)\n",
    "cr = ClassicalRegister(3)\n",
    "GHZ = QuantumCircuit(qr, cr)\n",
    "\n",
    "GHZ.h(0)\n",
    "GHZ.cx(0,1)\n",
    "GHZ.cx(1,2)\n",
    "GHZ.draw(output='mpl')"
   ]
  },
  {
   "cell_type": "code",
   "execution_count": 60,
   "metadata": {},
   "outputs": [
    {
     "name": "stdout",
     "output_type": "stream",
     "text": [
      "[[0.70710678-0.j]\n",
      " [0.        -0.j]\n",
      " [0.        -0.j]\n",
      " [0.        -0.j]\n",
      " [0.        -0.j]\n",
      " [0.        -0.j]\n",
      " [0.        -0.j]\n",
      " [0.70710678-0.j]]\n"
     ]
    }
   ],
   "source": [
    "backend = Aer.get_backend('statevector_simulator') \n",
    "GHZ_state = execute(GHZ,backend).result().get_statevector()\n",
    "print(np.matrix(GHZ_state).H)"
   ]
  },
  {
   "cell_type": "code",
   "execution_count": 61,
   "metadata": {},
   "outputs": [
    {
     "name": "stdout",
     "output_type": "stream",
     "text": [
      "Statevector([0.70710678+0.j, 0.        +0.j, 0.        +0.j,\n",
      "             0.        +0.j, 0.        +0.j, 0.        +0.j,\n",
      "             0.        +0.j, 0.70710678+0.j],\n",
      "            dims=(2, 2, 2))\n"
     ]
    }
   ],
   "source": [
    "from qiskit.quantum_info import Statevector\n",
    "psi = Statevector(GHZ_state)\n",
    "print(psi)"
   ]
  },
  {
   "cell_type": "markdown",
   "metadata": {},
   "source": [
    "The `DensityMatrix()` function is used from Qiskit by passing it the `GHZ_state` ket-vector we defined above."
   ]
  },
  {
   "cell_type": "code",
   "execution_count": 62,
   "metadata": {},
   "outputs": [
    {
     "name": "stdout",
     "output_type": "stream",
     "text": [
      "DensityMatrix([[0.5+0.j, 0. +0.j, 0. +0.j, 0. +0.j, 0. +0.j, 0. +0.j,\n",
      "                0. +0.j, 0.5+0.j],\n",
      "               [0. +0.j, 0. +0.j, 0. +0.j, 0. +0.j, 0. +0.j, 0. +0.j,\n",
      "                0. +0.j, 0. +0.j],\n",
      "               [0. +0.j, 0. +0.j, 0. +0.j, 0. +0.j, 0. +0.j, 0. +0.j,\n",
      "                0. +0.j, 0. +0.j],\n",
      "               [0. +0.j, 0. +0.j, 0. +0.j, 0. +0.j, 0. +0.j, 0. +0.j,\n",
      "                0. +0.j, 0. +0.j],\n",
      "               [0. +0.j, 0. +0.j, 0. +0.j, 0. +0.j, 0. +0.j, 0. +0.j,\n",
      "                0. +0.j, 0. +0.j],\n",
      "               [0. +0.j, 0. +0.j, 0. +0.j, 0. +0.j, 0. +0.j, 0. +0.j,\n",
      "                0. +0.j, 0. +0.j],\n",
      "               [0. +0.j, 0. +0.j, 0. +0.j, 0. +0.j, 0. +0.j, 0. +0.j,\n",
      "                0. +0.j, 0. +0.j],\n",
      "               [0.5+0.j, 0. +0.j, 0. +0.j, 0. +0.j, 0. +0.j, 0. +0.j,\n",
      "                0. +0.j, 0.5+0.j]],\n",
      "              dims=(2, 2, 2))\n"
     ]
    }
   ],
   "source": [
    "from qiskit.quantum_info import DensityMatrix\n",
    "D = DensityMatrix(GHZ_state)\n",
    "print(D)"
   ]
  },
  {
   "cell_type": "markdown",
   "metadata": {},
   "source": [
    "The von Neumann entropy can now be calculated using the Qiskit `entropy()` function. This cane be passed either by the `Statevector` or the `DensityMatrix`. In the second case, we get effectively zero entropy, in the first we get exactly zero. This makes sense because the state is a pure state and the density matrix is computed as $D = |\\psi\\rangle \\langle \\psi|$. "
   ]
  },
  {
   "cell_type": "code",
   "execution_count": 63,
   "metadata": {},
   "outputs": [
    {
     "name": "stdout",
     "output_type": "stream",
     "text": [
      "0\n"
     ]
    }
   ],
   "source": [
    "from qiskit.quantum_info import entropy\n",
    "vn_entropy1 = entropy(psi, base=2)\n",
    "vn_entropy2 = entropy(D, base=2)\n",
    "print(vn_entropy1)"
   ]
  },
  {
   "cell_type": "code",
   "execution_count": 64,
   "metadata": {},
   "outputs": [
    {
     "name": "stdout",
     "output_type": "stream",
     "text": [
      "1.6017132519074586e-16\n"
     ]
    }
   ],
   "source": [
    "print(vn_entropy2)"
   ]
  },
  {
   "cell_type": "code",
   "execution_count": 65,
   "metadata": {},
   "outputs": [
    {
     "name": "stdout",
     "output_type": "stream",
     "text": [
      "DensityMatrix([[ 0.08054469+0.j        ,  0.00378534-0.01512447j,\n",
      "                 0.00550948+0.03754271j,  0.02774094+0.00635299j,\n",
      "                -0.00767342-0.0592505j ,  0.03333562-0.01379761j,\n",
      "                -0.03375188+0.03520552j, -0.02217007+0.00118471j],\n",
      "               [ 0.00378534+0.01512447j,  0.09931229+0.j        ,\n",
      "                -0.00188157+0.02163789j,  0.02974469+0.02266381j,\n",
      "                -0.01292592+0.02210988j,  0.07337398-0.02819207j,\n",
      "                 0.02696688-0.01628446j,  0.03650342+0.05754092j],\n",
      "               [ 0.00550948-0.03754271j, -0.00188157-0.02163789j,\n",
      "                 0.12163314+0.j        ,  0.00577139-0.03222451j,\n",
      "                -0.04212854-0.03942353j, -0.01561449-0.0379997j ,\n",
      "                 0.00196646+0.02940909j,  0.01711995-0.00919092j],\n",
      "               [ 0.02774094-0.00635299j,  0.02974469-0.02266381j,\n",
      "                 0.00577139+0.03222451j,  0.16309058+0.j        ,\n",
      "                 0.01323722-0.00970595j, -0.00127357-0.05265801j,\n",
      "                -0.03253797-0.00138423j, -0.01461144+0.0281049j ],\n",
      "               [-0.00767342+0.0592505j , -0.01292592-0.02210988j,\n",
      "                -0.04212854+0.03942353j,  0.01323722+0.00970595j,\n",
      "                 0.14333119+0.j        ,  0.01142421+0.02853627j,\n",
      "                -0.07125119-0.05842905j,  0.03329952-0.01937848j],\n",
      "               [ 0.03333562+0.01379761j,  0.07337398+0.02819207j,\n",
      "                -0.01561449+0.0379997j , -0.00127357+0.05265801j,\n",
      "                 0.01142421-0.02853627j,  0.13118982+0.j        ,\n",
      "                 0.0116773 +0.03222348j,  0.02643516+0.05148364j],\n",
      "               [-0.03375188-0.03520552j,  0.02696688+0.01628446j,\n",
      "                 0.00196646-0.02940909j, -0.03253797+0.00138423j,\n",
      "                -0.07125119+0.05842905j,  0.0116773 -0.03222348j,\n",
      "                 0.14701852+0.j        ,  0.04437844+0.02491929j],\n",
      "               [-0.02217007-0.00118471j,  0.03650342-0.05754092j,\n",
      "                 0.01711995+0.00919092j, -0.01461144-0.0281049j ,\n",
      "                 0.03329952+0.01937848j,  0.02643516-0.05148364j,\n",
      "                 0.04437844-0.02491929j,  0.11387978+0.j        ]],\n",
      "              dims=(2, 2, 2))\n"
     ]
    }
   ],
   "source": [
    "from qiskit.quantum_info import random_density_matrix\n",
    "rho = random_density_matrix(8, rank=None, method='Hilbert-Schmidt', seed=None)\n",
    "print(rho)"
   ]
  },
  {
   "cell_type": "markdown",
   "metadata": {},
   "source": [
    "Compute the entropy using the Qiskit `entropy()` function. "
   ]
  },
  {
   "cell_type": "code",
   "execution_count": 66,
   "metadata": {},
   "outputs": [
    {
     "data": {
      "text/plain": [
       "2.3016750485394146"
      ]
     },
     "execution_count": 66,
     "metadata": {},
     "output_type": "execute_result"
    }
   ],
   "source": [
    "entropy(rho, base=2)"
   ]
  },
  {
   "cell_type": "markdown",
   "metadata": {},
   "source": [
    "Plot the entropy of the system that evolved from the state given by the density matrix $D$ of the GHZ-state to the system described by the density matrix $\\rho$. "
   ]
  },
  {
   "cell_type": "code",
   "execution_count": 67,
   "metadata": {},
   "outputs": [
    {
     "data": {
      "image/png": "[encoded data removed]",
      "text/plain": [
       "<Figure size 432x288 with 1 Axes>"
      ]
     },
     "metadata": {
      "needs_background": "light"
     },
     "output_type": "display_data"
    }
   ],
   "source": [
    "time = np.arange(0.001, 1., 0.01)\n",
    "\n",
    "vn_entropy = list()\n",
    "for t in time:\n",
    "    vn_entropy.append(entropy(D, base=2)*t + entropy(rho, base=2)*(1-t))\n",
    "\n",
    "# Create list of von Neumann entropies\n",
    "vn_y = list()\n",
    "for value in p:\n",
    "    M = value*rho + (1-value)*(D)\n",
    "    vn_y.append(entropy(M))\n",
    "\n",
    "# convert list of matrices to list of numbers for plotting\n",
    "# y = list()\n",
    "# for value in vn_y:\n",
    "#    y.append(value.tolist()[0][0])\n",
    "\n",
    "    \n",
    "# plot p vs. S(rho_p)\n",
    "plt.xlabel('time')\n",
    "plt.ylabel('von Neumann Entropy')\n",
    "plt.title('S(rho(t))')\n",
    "plt.plot(p, vn_y, color='tab:blue')\n",
    "plt.show()"
   ]
  },
  {
   "cell_type": "markdown",
   "metadata": {},
   "source": [
    "Noticeable is the maximum which is actually at an intermediate point in time, just before the final mixed state is achieved. Generally speaking, entropy has a tendency to increase over time. However, in effectively \"closed\" quantum systems where substantial control can be exercised, the entropy can be reduced down to a lower level."
   ]
  },
  {
   "cell_type": "markdown",
   "metadata": {},
   "source": [
    "## Properties of von Neumann Entropy"
   ]
  },
  {
   "cell_type": "markdown",
   "metadata": {},
   "source": [
    "1. $S(\\rho) = 0$ if and only if $\\rho$ is a pure state.\n",
    "2. For $dim(\\mathbb{H}) = N$ the dimension of the Hilbert space, $S(\\rho) = \\log(N)$ gives the maximum value of $S(\\rho)$ for a *maximally mixed state*. \n",
    "3. $S(\\rho)$ is invariant under basis change, i.e. $S(\\rho) = S(U \\rho U^{\\dagger})$ for any unitary matrix $U$. \n",
    "4. For a set of numbers $\\{\\lambda_k\\}$ such that $\\sum_k \\lambda_k =1$ and $\\lambda_k >0$, and for a corresponding collection of density matrices $\\{\\rho_k\\}$ we have\n",
    "\n",
    "\\begin{align}\n",
    "S\\left(\\sum_k \\lambda_k \\rho_k \\right) \\geq \\sum_k \\lambda_k S(\\rho_k), \n",
    "\\end{align}\n",
    "\n",
    "making the von Neumann entropy *concave*.\n",
    "\n",
    "5. For a set of numbers as above, $S(\\rho)$ satisfies\n",
    "\n",
    "\\begin{align}\n",
    "S\\left(\\sum_k \\lambda_k \\rho_k \\right) \\leq \\sum_k \\lambda_k S(\\rho_k) - \\sum_k \\lambda_k \\log(\\lambda_k), \n",
    "\\end{align}\n",
    "\n",
    "and equality is achieved if the $\\rho_k$ have orthogonal support. \n",
    "\n",
    "6. $S(\\rho_{AB}) = S(\\rho_A \\otimes \\rho_B) = S(\\rho_A)+S(\\rho_B)$ for independent systems $A$ and $B$. \n",
    "7. $S(\\rho_{ABC})+S(\\rho_B) \\leq S(\\rho_{AB})+S(\\rho_{BC})$.\n",
    "8. $S(\\rho_{AC}) \\leq S(\\rho_A)+S(\\rho_C)$.\n"
   ]
  },
  {
   "cell_type": "code",
   "execution_count": null,
   "metadata": {},
   "outputs": [],
   "source": []
  }
 ],
 "metadata": {
  "kernelspec": {
   "display_name": "Python 3",
   "language": "python",
   "name": "python3"
  },
  "language_info": {
   "codemirror_mode": {
    "name": "ipython",
    "version": 3
   },
   "file_extension": ".py",
   "mimetype": "text/x-python",
   "name": "python",
   "nbconvert_exporter": "python",
   "pygments_lexer": "ipython3",
   "version": "3.7.10"
  }
 },
 "nbformat": 4,
 "nbformat_minor": 4
}
