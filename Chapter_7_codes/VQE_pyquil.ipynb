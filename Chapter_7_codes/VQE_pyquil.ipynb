{
 "cells": [
  {
   "cell_type": "markdown",
   "metadata": {},
   "source": [
    "## Chapter 7: VQE_pyquil"
   ]
  },
  {
   "cell_type": "code",
   "execution_count": 10,
   "metadata": {},
   "outputs": [],
   "source": [
    "# Variational-Quantum-Eigensolver\n",
    "import numpy as np\n",
    "from scipy.optimize import minimize\n",
    "from pyquil.api import QVMConnection\n",
    "import pyquil.api as api\n",
    "from pyquil.gates import *\n",
    "from pyquil import Program, get_qc\n",
    "from grove.pyvqe.vqe import VQE\n",
    "\n",
    "# Create connection with QVM\n",
    "\n",
    "qvm = api.QVMConnection()\n",
    "qc = get_qc('2q-qvm')\n",
    "\n",
    "# Define matrix\n",
    "from pyquil.paulis import sZ\n",
    "H = sZ(0)"
   ]
  },
  {
   "cell_type": "code",
   "execution_count": 11,
   "metadata": {},
   "outputs": [],
   "source": [
    "# Define ansatz\n",
    "from pyquil.gates import RY\n",
    "def ansatz(params):\n",
    "    return Program(RY(params[0], 0))\n"
   ]
  },
  {
   "cell_type": "code",
   "execution_count": 12,
   "metadata": {},
   "outputs": [
    {
     "name": "stdout",
     "output_type": "stream",
     "text": [
      "1.0\n"
     ]
    }
   ],
   "source": [
    "# Function calculating expectation value\n",
    "def expectation(params):\n",
    "    \n",
    "    # Define number of measurments\n",
    "    samples = 10000\n",
    "    \n",
    "    # Define program\n",
    "    prog = ansatz(params)\n",
    "    \n",
    "    # Measure\n",
    "    ro = prog.declare('ro', 'BIT', 1) # Classical registry storing the results\n",
    "    prog.measure(0, ro[0])\n",
    "    \n",
    "    # Compile and execute\n",
    "    prog.wrap_in_numshots_loop(samples)\n",
    "    prog_exec = qc.compile(prog)\n",
    "    ret = qc.run(prog_exec)\n",
    "    \n",
    "    # Calculate expectation\n",
    "    freq_is_0 = [trial[0] for trial in ret].count(0) / samples\n",
    "    freq_is_1 = [trial[0] for trial in ret].count(1) / samples\n",
    "    \n",
    "    return freq_is_0 - freq_is_1\n",
    "\n",
    "# Test of expectation value function  \n",
    "test = expectation([0.0]) \n",
    "print(test)\n"
   ]
  },
  {
   "cell_type": "code",
   "execution_count": 13,
   "metadata": {},
   "outputs": [
    {
     "data": {
      "image/png": "[encoded data removed]",
      "text/plain": [
       "<Figure size 432x288 with 1 Axes>"
      ]
     },
     "metadata": {
      "needs_background": "light"
     },
     "output_type": "display_data"
    },
    {
     "name": "stdout",
     "output_type": "stream",
     "text": [
      "====================================================================================================\n",
      "The minimum bound on the lowest eigenvalue of M is E0=-1.0,\n",
      "\n",
      "The parameter that corresponds to this energy is theta=3.14 Rads\n",
      "====================================================================================================\n"
     ]
    }
   ],
   "source": [
    "# Draw expectation alue against parameter value\n",
    "params_range = np.linspace(0.0, 2 * np.pi, 25)\n",
    "data = [expectation([params]) for params in params_range]\n",
    "\n",
    "import matplotlib.pyplot as plt\n",
    "plt.xlabel('Theta (radians)')\n",
    "plt.ylabel('Expectation value')\n",
    "plt.plot(params_range, data)\n",
    "plt.show()\n",
    "\n",
    "# Determine the lowest bound from varying theta\n",
    "print('='*100)\n",
    "print('The minimum bound on the lowest eigenvalue of M is E0={},\\n'.format(min(data)))\n",
    "print('The parameter that corresponds to this energy is theta={:0.2f} Rads'.format(params_range[np.argmin(data)]))\n",
    "print('='*100)"
   ]
  },
  {
   "cell_type": "code",
   "execution_count": 14,
   "metadata": {},
   "outputs": [
    {
     "name": "stdout",
     "output_type": "stream",
     "text": [
      " final_simplex: (array([[3.1375 ],\n",
      "       [3.14375]]), array([-1., -1.]))\n",
      "           fun: -1.0\n",
      "       message: 'Optimization terminated successfully.'\n",
      "          nfev: 28\n",
      "           nit: 14\n",
      "        status: 0\n",
      "       success: True\n",
      "             x: array([3.1375])\n"
     ]
    }
   ],
   "source": [
    "# Eigenvalue Optimization\n",
    "initial_params = [0.0]\n",
    "minimum = minimize(expectation, initial_params, method='Nelder-Mead', \n",
    "                   options={'initial_simplex': np.array([[0.0], [0.05]]), 'xatol': 1.0e-2})\n",
    "print(minimum)"
   ]
  },
  {
   "cell_type": "code",
   "execution_count": 15,
   "metadata": {},
   "outputs": [],
   "source": [
    "pauli_channel = [0.1, 0.1, 0.1] #10% chance of each gate at each timestep\n",
    "noisy_qvm = api.QVMConnection(gate_noise=pauli_channel)"
   ]
  },
  {
   "cell_type": "code",
   "execution_count": 17,
   "metadata": {},
   "outputs": [
    {
     "data": {
      "text/plain": [
       "[[1, 1],\n",
       " [1, 1],\n",
       " [1, 1],\n",
       " [1, 1],\n",
       " [0, 0],\n",
       " [1, 1],\n",
       " [1, 1],\n",
       " [1, 1],\n",
       " [0, 0],\n",
       " [1, 1]]"
      ]
     },
     "execution_count": 17,
     "metadata": {},
     "output_type": "execute_result"
    }
   ],
   "source": [
    "#Verify Simulator is indeed noisy\n",
    "\n",
    "p = Program(X(0), MEASURE(0, 1))\n",
    "noisy_qvm.run(p, [1, 1], 10)"
   ]
  },
  {
   "cell_type": "markdown",
   "metadata": {},
   "source": [
    "### VQE for Molecular Systems"
   ]
  },
  {
   "cell_type": "code",
   "execution_count": 18,
   "metadata": {},
   "outputs": [],
   "source": [
    "# Molecular Systems Solutions\n",
    "from pyquil.paulis import sY\n",
    "initial_angle = [0.0]\n",
    "#Hamiltonian is sigma Y\n",
    "hamiltonian = sY(0)\n",
    "vqe_inst = VQE(minimizer=minimize,\n",
    "               minimizer_kwargs={'method': 'nelder-mead'})\n",
    "#ansatz is rotation by X\n",
    "def small_ansatz(params):\n",
    "    return Program(RX(params[0], 0))\n",
    "#looping from 0 to 2 pi\n",
    "angle_range = np.linspace(0.0, 2 * np.pi, 20)\n",
    "data = [vqe_inst.expectation(small_ansatz([angle]), hamiltonian, 10000, qvm)\n",
    "        for angle in angle_range]"
   ]
  },
  {
   "cell_type": "code",
   "execution_count": 19,
   "metadata": {},
   "outputs": [
    {
     "data": {
      "image/png": "[encoded data removed]",
      "text/plain": [
       "<Figure size 432x288 with 1 Axes>"
      ]
     },
     "metadata": {
      "needs_background": "light"
     },
     "output_type": "display_data"
    }
   ],
   "source": [
    "plt.xlabel('Angle [radians]')\n",
    "plt.ylabel('Expectation value')\n",
    "plt.plot(angle_range, data)\n",
    "plt.show()"
   ]
  },
  {
   "cell_type": "code",
   "execution_count": null,
   "metadata": {},
   "outputs": [],
   "source": []
  }
 ],
 "metadata": {
  "kernelspec": {
   "display_name": "Python 3",
   "language": "python",
   "name": "python3"
  },
  "language_info": {
   "codemirror_mode": {
    "name": "ipython",
    "version": 3
   },
   "file_extension": ".py",
   "mimetype": "text/x-python",
   "name": "python",
   "nbconvert_exporter": "python",
   "pygments_lexer": "ipython3",
   "version": "3.7.10"
  }
 },
 "nbformat": 4,
 "nbformat_minor": 4
}
