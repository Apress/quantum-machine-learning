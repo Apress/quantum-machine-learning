{
 "cells": [
  {
   "cell_type": "markdown",
   "metadata": {},
   "source": [
    "## Chapter 7: QAOA with pyQuil"
   ]
  },
  {
   "cell_type": "code",
   "execution_count": 46,
   "metadata": {},
   "outputs": [],
   "source": [
    "#Libraries\n",
    "import numpy as np\n",
    "from functools import partial\n",
    "from pyquil import Program, api\n",
    "from pyquil.paulis import PauliSum, PauliTerm, exponential_map, sZ\n",
    "from pyquil.gates import *\n",
    "from pyquil import Program, get_qc\n",
    "from pyquil.api import ForestConnection\n",
    "from pyquil.api import WavefunctionSimulator\n",
    "from pyquil.api import QVMConnection\n",
    "from scipy.optimize import minimize\n",
    "np.set_printoptions(precision=3, suppress=True)\n",
    "qvm = QVMConnection()"
   ]
  },
  {
   "cell_type": "code",
   "execution_count": 47,
   "metadata": {},
   "outputs": [],
   "source": [
    "n_qubits = 2"
   ]
  },
  {
   "cell_type": "code",
   "execution_count": 48,
   "metadata": {},
   "outputs": [],
   "source": [
    "Hm = [PauliTerm(\"X\", i, 1.0) for i in range(n_qubits)]"
   ]
  },
  {
   "cell_type": "code",
   "execution_count": 49,
   "metadata": {},
   "outputs": [],
   "source": [
    "J = np.array([[0,1],[0,0]]) # weight matrix of the Ising model. Only the coefficient (0,1) is non-zero.\n",
    "\n",
    "Hc = []\n",
    "for i in range(n_qubits):\n",
    "    for j in range(n_qubits):\n",
    "        Hc.append(PauliTerm(\"Z\", i, -J[i, j]) * PauliTerm(\"Z\", j, 1.0))"
   ]
  },
  {
   "cell_type": "code",
   "execution_count": 50,
   "metadata": {},
   "outputs": [],
   "source": [
    "exp_Hm = []\n",
    "exp_Hc = []\n",
    "for term in Hm:\n",
    "    exp_Hm.append(exponential_map(term))\n",
    "for term in Hc:\n",
    "    exp_Hc.append(exponential_map(term))"
   ]
  },
  {
   "cell_type": "code",
   "execution_count": 51,
   "metadata": {},
   "outputs": [],
   "source": [
    "n_iter = 10 # number of iterations of the optimization procedure\n",
    "p = 1\n",
    "β = np.random.uniform(0, np.pi*2, p)\n",
    "γ = np.random.uniform(0, np.pi*2, p)"
   ]
  },
  {
   "cell_type": "code",
   "execution_count": 52,
   "metadata": {},
   "outputs": [],
   "source": [
    "initial_state = Program()\n",
    "for i in range(n_qubits):\n",
    "    initial_state += H(i)"
   ]
  },
  {
   "cell_type": "code",
   "execution_count": 53,
   "metadata": {},
   "outputs": [],
   "source": [
    "def create_circuit(β, γ):\n",
    "    circuit = Program()\n",
    "    circuit += initial_state\n",
    "    for i in range(p):\n",
    "        for term_exp_Hc in exp_Hc:\n",
    "            circuit += term_exp_Hc(-β[i])\n",
    "        for term_exp_Hm in exp_Hm:\n",
    "            circuit += term_exp_Hm(-γ[i])\n",
    "\n",
    "    return circuit"
   ]
  },
  {
   "cell_type": "code",
   "execution_count": 54,
   "metadata": {},
   "outputs": [],
   "source": [
    "def evaluate_circuit(beta_gamma):\n",
    "    β = beta_gamma[:p]\n",
    "    γ = beta_gamma[p:]\n",
    "    circuit = create_circuit(β, γ)\n",
    "    return qvm.pauli_expectation(circuit, sum(Hc))"
   ]
  },
  {
   "cell_type": "code",
   "execution_count": 55,
   "metadata": {},
   "outputs": [
    {
     "data": {
      "text/plain": [
       "      fun: (-0.9999999999999868+0j)\n",
       " hess_inv: <2x2 LbfgsInvHessProduct with dtype=float64>\n",
       "      jac: array([-0., -0.])\n",
       "  message: 'CONVERGENCE: NORM_OF_PROJECTED_GRADIENT_<=_PGTOL'\n",
       "     nfev: 30\n",
       "      nit: 8\n",
       "     njev: 10\n",
       "   status: 0\n",
       "  success: True\n",
       "        x: array([0.785, 4.32 ])"
      ]
     },
     "execution_count": 55,
     "metadata": {},
     "output_type": "execute_result"
    }
   ],
   "source": [
    "result = minimize(evaluate_circuit, np.concatenate([β, γ]), method='L-BFGS-B')\n",
    "result"
   ]
  },
  {
   "cell_type": "markdown",
   "metadata": {},
   "source": [
    "#### Explanation"
   ]
  },
  {
   "cell_type": "code",
   "execution_count": 56,
   "metadata": {},
   "outputs": [],
   "source": [
    "circuit = create_circuit(result['x'][:p], result['x'][p:])"
   ]
  },
  {
   "cell_type": "code",
   "execution_count": 57,
   "metadata": {},
   "outputs": [
    {
     "name": "stdout",
     "output_type": "stream",
     "text": [
      "(-0.5+0.5j)|00> + (-2.89e-08+4.55e-08j)|01> + (-2.89e-08+4.55e-08j)|10> + (-0.5+0.5j)|11>\n"
     ]
    }
   ],
   "source": [
    "wf_sim = api.WavefunctionSimulator()\n",
    "state = wf_sim.wavefunction(circuit)\n",
    "print(state)"
   ]
  },
  {
   "cell_type": "code",
   "execution_count": 58,
   "metadata": {},
   "outputs": [
    {
     "name": "stdout",
     "output_type": "stream",
     "text": [
      "0j\n",
      "0j\n"
     ]
    }
   ],
   "source": [
    "print(qvm.pauli_expectation(circuit, PauliSum([sZ(0)])))\n",
    "print(qvm.pauli_expectation(circuit, PauliSum([sZ(1)])))"
   ]
  },
  {
   "cell_type": "code",
   "execution_count": null,
   "metadata": {},
   "outputs": [],
   "source": []
  }
 ],
 "metadata": {
  "kernelspec": {
   "display_name": "Python 3",
   "language": "python",
   "name": "python3"
  },
  "language_info": {
   "codemirror_mode": {
    "name": "ipython",
    "version": 3
   },
   "file_extension": ".py",
   "mimetype": "text/x-python",
   "name": "python",
   "nbconvert_exporter": "python",
   "pygments_lexer": "ipython3",
   "version": "3.7.10"
  }
 },
 "nbformat": 4,
 "nbformat_minor": 4
}
