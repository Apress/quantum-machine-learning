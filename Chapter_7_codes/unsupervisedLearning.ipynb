{
 "cells": [
  {
   "cell_type": "markdown",
   "metadata": {},
   "source": [
    "## Chapetr 7: Unsupervised Learning\n",
    "\n",
    "### Mapping clustering to discrete optimization\n",
    "\n"
   ]
  },
  {
   "cell_type": "code",
   "execution_count": 14,
   "metadata": {},
   "outputs": [
    {
     "data": {
      "image/png": "[encoded data removed]",
      "text/plain": [
       "<Figure size 432x288 with 1 Axes>"
      ]
     },
     "metadata": {},
     "output_type": "display_data"
    }
   ],
   "source": [
    "import numpy as np\n",
    "import matplotlib.pyplot as plt\n",
    "from mpl_toolkits.mplot3d import Axes3D\n",
    "%matplotlib inline\n",
    "\n",
    "n_instances = 20\n",
    "class_1 = np.random.rand(n_instances//2, 3)/10\n",
    "class_2 = (0.6, 0.1, 0.05) + np.random.rand(n_instances//2, 3)/10\n",
    "data = np.concatenate((class_1, class_2))\n",
    "colors = [\"red\"] * (n_instances//2) + [\"green\"] * (n_instances//2)\n",
    "fig = plt.figure()\n",
    "ax = fig.add_subplot(111, projection='3d', xticks=[], yticks=[], zticks=[])\n",
    "ax.scatter(data[:, 0], data[:, 1], data[:, 2], c=colors);"
   ]
  },
  {
   "cell_type": "markdown",
   "metadata": {},
   "source": [
    "The high-dimensional space is endowed with some measure of distance, the Euclidean distance being the simplest case. We can calculate all pairwise distances between the data points:"
   ]
  },
  {
   "cell_type": "code",
   "execution_count": 15,
   "metadata": {
    "ExecuteTime": {
     "end_time": "2018-11-19T20:10:21.407379Z",
     "start_time": "2018-11-19T20:10:21.393951Z"
    }
   },
   "outputs": [
    {
     "name": "stdout",
     "output_type": "stream",
     "text": [
      "The distances are  [[0.         0.08532297 0.06552906 0.06037005 0.10133937 0.08844153\n",
      "  0.07775253 0.08052134 0.0585096  0.07795988 0.65528784 0.66075091\n",
      "  0.66606003 0.57537801 0.57650263 0.6674288  0.61740859 0.62274541\n",
      "  0.60604512 0.65576059]\n",
      " [0.08532297 0.         0.05767896 0.03648044 0.08862928 0.02826238\n",
      "  0.10602007 0.02443938 0.077844   0.09216663 0.61298415 0.61390952\n",
      "  0.62360576 0.53413551 0.53257705 0.61875728 0.5738401  0.57503183\n",
      "  0.56733093 0.6140703 ]\n",
      " [0.06552906 0.05767896 0.         0.03448632 0.05710528 0.04029716\n",
      "  0.05178214 0.03979048 0.06371034 0.03527045 0.65141306 0.65338825\n",
      "  0.66264881 0.57446567 0.56761723 0.66006639 0.61162907 0.61499983\n",
      "  0.60487349 0.65206991]\n",
      " [0.06037005 0.03648044 0.03448632 0.         0.06228933 0.03879354\n",
      "  0.07339605 0.02186902 0.0450065  0.06393142 0.62136288 0.62395042\n",
      "  0.6323917  0.54333677 0.53933648 0.63033056 0.58208464 0.58552121\n",
      "  0.57436709 0.62206539]\n",
      " [0.10133937 0.08862928 0.05710528 0.06228933 0.         0.07666206\n",
      "  0.05372369 0.06441223 0.06164528 0.05211726 0.62232073 0.62452917\n",
      "  0.63424982 0.54891551 0.53459771 0.63320526 0.58166155 0.58685459\n",
      "  0.57605702 0.62258669]\n",
      " [0.08844153 0.02826238 0.04029716 0.03879354 0.07666206 0.\n",
      "  0.09081148 0.02256473 0.08296205 0.07334514 0.63278812 0.63303181\n",
      "  0.643672   0.55527758 0.55025125 0.63830466 0.59302319 0.59421327\n",
      "  0.58766316 0.63381344]\n",
      " [0.07775253 0.10602007 0.05178214 0.07339605 0.05372369 0.09081148\n",
      "  0.         0.08491499 0.06896592 0.02169124 0.66817375 0.67188033\n",
      "  0.67995614 0.59325767 0.58209153 0.68056999 0.6282003  0.63427044\n",
      "  0.6205199  0.66833526]\n",
      " [0.08052134 0.02443938 0.03979048 0.02186902 0.06441223 0.02256473\n",
      "  0.08491499 0.         0.06351301 0.07156587 0.61692188 0.61813807\n",
      "  0.62792689 0.53942955 0.53425505 0.62403462 0.57725303 0.57950145\n",
      "  0.57104563 0.61778959]\n",
      " [0.0585096  0.077844   0.06371034 0.0450065  0.06164528 0.08296205\n",
      "  0.06896592 0.06351301 0.         0.07329597 0.61034778 0.61544869\n",
      "  0.62168688 0.53301418 0.52804751 0.62350117 0.57147084 0.57774961\n",
      "  0.56158456 0.61059825]\n",
      " [0.07795988 0.09216663 0.03527045 0.06393142 0.05211726 0.07334514\n",
      "  0.02169124 0.07156587 0.07329597 0.         0.66905448 0.67164568\n",
      "  0.68069    0.59373445 0.58315332 0.67956397 0.62890387 0.63368952\n",
      "  0.6221584  0.66942588]\n",
      " [0.65528784 0.61298415 0.65141306 0.62136288 0.62232073 0.63278812\n",
      "  0.66817375 0.61692188 0.61034778 0.66905448 0.         0.04005484\n",
      "  0.01469219 0.08787248 0.10128889 0.06006949 0.04350505 0.05797517\n",
      "  0.05587822 0.00673149]\n",
      " [0.66075091 0.61390952 0.65338825 0.62395042 0.62452917 0.63303181\n",
      "  0.67188033 0.61813807 0.61544869 0.67164568 0.04005484 0.\n",
      "  0.0420331  0.10268346 0.10268023 0.02915541 0.05166599 0.03942513\n",
      "  0.08469542 0.04497695]\n",
      " [0.66606003 0.62360576 0.66264881 0.6323917  0.63424982 0.643672\n",
      "  0.67995614 0.62792689 0.62168688 0.68069    0.01469219 0.0420331\n",
      "  0.         0.09479736 0.11548574 0.05627886 0.05691712 0.06525543\n",
      "  0.0660955  0.01852686]\n",
      " [0.57537801 0.53413551 0.57446567 0.54333677 0.54891551 0.55527758\n",
      "  0.59325767 0.53942955 0.53301418 0.59373445 0.08787248 0.10268346\n",
      "  0.09479736 0.         0.09322175 0.10906953 0.06795964 0.07632646\n",
      "  0.04915415 0.08997389]\n",
      " [0.57650263 0.53257705 0.56761723 0.53933648 0.53459771 0.55025125\n",
      "  0.58209153 0.53425505 0.52804751 0.58315332 0.10128889 0.10268023\n",
      "  0.11548574 0.09322175 0.         0.12412077 0.05959267 0.07851738\n",
      "  0.08107595 0.10050746]\n",
      " [0.6674288  0.61875728 0.66006639 0.63033056 0.63320526 0.63830466\n",
      "  0.68056999 0.62403462 0.62350117 0.67956397 0.06006949 0.02915541\n",
      "  0.05627886 0.10906953 0.12412077 0.         0.07359963 0.04880943\n",
      "  0.1018823  0.0662808 ]\n",
      " [0.61740859 0.5738401  0.61162907 0.58208464 0.58166155 0.59302319\n",
      "  0.6282003  0.57725303 0.57147084 0.62890387 0.04350505 0.05166599\n",
      "  0.05691712 0.06795964 0.05959267 0.07359963 0.         0.03778147\n",
      "  0.04427299 0.04434718]\n",
      " [0.62274541 0.57503183 0.61499983 0.58552121 0.58685459 0.59421327\n",
      "  0.63427044 0.57950145 0.57774961 0.63368952 0.05797517 0.03942513\n",
      "  0.06525543 0.07632646 0.07851738 0.04880943 0.03778147 0.\n",
      "  0.07365402 0.06262792]\n",
      " [0.60604512 0.56733093 0.60487349 0.57436709 0.57605702 0.58766316\n",
      "  0.6205199  0.57104563 0.56158456 0.6221584  0.05587822 0.08469542\n",
      "  0.0660955  0.04915415 0.08107595 0.1018823  0.04427299 0.07365402\n",
      "  0.         0.05455226]\n",
      " [0.65576059 0.6140703  0.65206991 0.62206539 0.62258669 0.63381344\n",
      "  0.66833526 0.61778959 0.61059825 0.66942588 0.00673149 0.04497695\n",
      "  0.01852686 0.08997389 0.10050746 0.0662808  0.04434718 0.06262792\n",
      "  0.05455226 0.        ]]\n"
     ]
    }
   ],
   "source": [
    "import itertools\n",
    "d = np.zeros((n_instances, n_instances))\n",
    "for i, j in itertools.product(*[range(n_instances)]*2):\n",
    "    d[i, j] = np.linalg.norm(data[i]-data[j])\n",
    "\n",
    "print(\"The distances are \", d)"
   ]
  },
  {
   "cell_type": "markdown",
   "metadata": {},
   "source": [
    "This matrix is sometimes called the Gram or the kernel matrix. The Gram matrix contains a fair bit of information about the topology of the points in the high-dimensional space, but it is not easy to see. We can think of the Gram matrix as the weighted adjacency matrix of a graph: two nodes represent two data instances. Their distance as contained in the Gram matrix is the weight on the edge that connects them. If the distance is zero, they are not connected by an edge. In general, this is a dense graph with many edges -- sparsity can be improved by a distance function that gets exponentially smaller.\n",
    "\n",
    "What can we do with this graph to find the clusters? We could look for the max-cut, that is, the collection of edges that would split the graph in exactly two if removed, while maximizing the total weight of these edges [[159](#159)]. This is a well-known NP-hard problem, but it also very naturally maps to an Ising model."
   ]
  },
  {
   "cell_type": "markdown",
   "metadata": {},
   "source": [
    "# References\n",
    "\n",
    "[159] Otterbach, J. S., Manenti, R., Alidoust, N., Bestwick, A., Block, M., Bloom, B., Caldwell, S., Didier, N., Fried, E. Schuyler, Hong, S., Karalekas, P., Osborn, C. B., Papageorge, A., Peterson, E. C., Prawiroatmodjo, G., Rubin, N., Ryan, Colm A., Scarabelli, D., Scheer, M., Sete, E. A., Sivarajah, P., Smith, Robert S., Staley, A., Tezak, N., Zeng, W. J., Hudson, A., Johnson, Blake R., Reagor, M., Silva, M. P. da, Rigetti, C. (2017). [Unsupervised Machine Learning on a Hybrid Quantum Computer](https://arxiv.org/abs/1712.05771). *arXiv:1712.05771*. <a id='1'></a>"
   ]
  },
  {
   "cell_type": "code",
   "execution_count": null,
   "metadata": {},
   "outputs": [],
   "source": []
  }
 ],
 "metadata": {
  "kernelspec": {
   "display_name": "Python 3",
   "language": "python",
   "name": "python3"
  },
  "language_info": {
   "codemirror_mode": {
    "name": "ipython",
    "version": 3
   },
   "file_extension": ".py",
   "mimetype": "text/x-python",
   "name": "python",
   "nbconvert_exporter": "python",
   "pygments_lexer": "ipython3",
   "version": "3.7.10"
  }
 },
 "nbformat": 4,
 "nbformat_minor": 2
}
