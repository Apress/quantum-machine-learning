{
 "cells": [
  {
   "cell_type": "markdown",
   "metadata": {},
   "source": [
    "## Chapter 5: Quantum Fourier Transform"
   ]
  },
  {
   "cell_type": "markdown",
   "metadata": {},
   "source": [
    "### Introduction to Forest SDK\n",
    "\n",
    "To run the Forest SDK locally, you should have the Quantum Virtual Machine(QVM) and the Quil Compiler running in server mode on your computer. It is better to run them from the terminal. We have to make sure that the ports we are using are available. For a start, we need to import some libraries. We shall also import qutip and latex tools to facilitate visualization of circuits."
   ]
  },
  {
   "cell_type": "code",
   "execution_count": 104,
   "metadata": {},
   "outputs": [],
   "source": [
    "# Import Libraries\n",
    "\n",
    "from pyquil import Program, get_qc\n",
    "from pyquil.gates import *\n",
    "import cmath\n",
    "import matplotlib.pyplot as plt\n",
    "import numpy as np\n",
    "from pyquil.api import ForestConnection\n",
    "from pyquil.api import WavefunctionSimulator\n",
    "from pyquil.api import QVMConnection\n",
    "from qutip import Bloch\n",
    "from tempfile import mkdtemp\n",
    "\n",
    "qvm = QVMConnection()"
   ]
  },
  {
   "cell_type": "code",
   "execution_count": 105,
   "metadata": {},
   "outputs": [],
   "source": [
    "# Verify QVM and Quilc are available\n",
    "\n",
    "from pyquil import get_qc, Program\n",
    "from pyquil.gates import CNOT, Z\n",
    "from pyquil.api import local_forest_runtime\n",
    "\n",
    "prog = Program(Z(0), CNOT(0, 1))\n",
    "\n",
    "with local_forest_runtime():\n",
    "    qvm = get_qc('9q-square-qvm')\n",
    "    results = qvm.run_and_measure(prog, trials=10)\n"
   ]
  },
  {
   "cell_type": "code",
   "execution_count": 130,
   "metadata": {},
   "outputs": [
    {
     "name": "stdout",
     "output_type": "stream",
     "text": [
      "(1+0j)|0>\n"
     ]
    }
   ],
   "source": [
    "# Test\n",
    "qvm = QVMConnection()\n",
    "\n",
    "hello_qubit = Program()\n",
    "\n",
    "print(qvm.wavefunction(hello_qubit))"
   ]
  },
  {
   "cell_type": "code",
   "execution_count": 128,
   "metadata": {},
   "outputs": [],
   "source": [
    "# construct a Bell State program\n",
    "p = Program(H(0), CNOT(0, 1))"
   ]
  },
  {
   "cell_type": "code",
   "execution_count": 131,
   "metadata": {},
   "outputs": [
    {
     "name": "stdout",
     "output_type": "stream",
     "text": [
      "[1 0 1 1 0 1 0 1 1 0]\n",
      "[1 0 1 1 0 1 0 1 1 0]\n"
     ]
    }
   ],
   "source": [
    "# run the program on a QVM\n",
    "qc = get_qc('9q-square-qvm')\n",
    "result = qc.run_and_measure(p, trials=10)\n",
    "print(result[0])\n",
    "print(result[1])"
   ]
  },
  {
   "cell_type": "code",
   "execution_count": 116,
   "metadata": {},
   "outputs": [],
   "source": [
    "# Function to generate circuits in pyQuil. However, this requires a full instaltion of Latex. \n",
    "# It is possible using texlive on Ubuntu. This can be done with tlmgr install quantikz. \n",
    "#In general, managing LaTeX distributions is tricky, and depends on your OS.\n",
    "\n",
    "def plot_circuit(circuit):\n",
    "    latex_diagram = to_latex(circuit)\n",
    "    tmp_folder = mkdtemp()\n",
    "    with open(tmp_folder + '/circuit.tex', 'w') as f:\n",
    "        f.write(latex_diagram)\n",
    "    proc = subprocess.Popen(['pdflatex', '-shell-escape', tmp_folder + '/circuit.tex'], cwd=tmp_folder)\n",
    "    proc.communicate()\n",
    "    image = plt.imread(tmp_folder + '/circuit.png')\n",
    "    shutil.rmtree(tmp_folder)\n",
    "    plt.axis('off')\n",
    "    return plt.imshow(image)"
   ]
  },
  {
   "cell_type": "code",
   "execution_count": 123,
   "metadata": {},
   "outputs": [],
   "source": [
    "import numpy as np\n",
    "from pyquil import Program, get_qc\n",
    "from pyquil.gates import *\n",
    "\n",
    "π = np.pi\n"
   ]
  },
  {
   "cell_type": "markdown",
   "metadata": {},
   "source": [
    "## Quantum Fourier Transform"
   ]
  },
  {
   "cell_type": "code",
   "execution_count": 119,
   "metadata": {},
   "outputs": [],
   "source": [
    "# Quantum Fourier Transform \n",
    "\n",
    "state_prep = Program(X(0))\n",
    "\n",
    "qft = Program()\n",
    "qft += H(0)\n",
    "qft += CPHASE(π/2, 1, 0)\n",
    "qft += H(1)\n",
    "qft += CPHASE(π/4, 2, 0)\n",
    "qft += CPHASE(π/2, 2, 1)\n",
    "qft += H(2);"
   ]
  },
  {
   "cell_type": "code",
   "execution_count": 120,
   "metadata": {},
   "outputs": [
    {
     "name": "stdout",
     "output_type": "stream",
     "text": [
      "(1+0j)|001>\n"
     ]
    }
   ],
   "source": [
    "# ADd dummy qubits\n",
    "\n",
    "from pyquil.api import WavefunctionSimulator\n",
    "\n",
    "add_dummy_qubits = Program(I(1), I(2))  # The identity gate I has no affect\n",
    "\n",
    "wf_sim = WavefunctionSimulator()\n",
    "wavefunction = wf_sim.wavefunction(state_prep + add_dummy_qubits)\n",
    "print(wavefunction)"
   ]
  },
  {
   "cell_type": "code",
   "execution_count": 125,
   "metadata": {},
   "outputs": [
    {
     "name": "stdout",
     "output_type": "stream",
     "text": [
      "SWAP 0 2\n",
      "H 0\n",
      "CPHASE(-pi/2) 0 1\n",
      "H 1\n",
      "CPHASE(-pi/4) 0 2\n",
      "CPHASE(-pi/2) 1 2\n",
      "H 2\n",
      "\n"
     ]
    }
   ],
   "source": [
    "# 3 qubit QFT Program: DFT of [0, 1, 0, 0, 0, 0, 0, 0], using pyQuil:\n",
    "\n",
    "from math import pi\n",
    "\n",
    "def qft1(q0, q1, q2):\n",
    "    p = Program()\n",
    "    p += [SWAP(q0, q2),\n",
    "          H(q0),\n",
    "          CPHASE(-pi / 2.0, q0, q1),\n",
    "          H(q1),\n",
    "          CPHASE(-pi / 4.0, q0, q2),\n",
    "          CPHASE(-pi / 2.0, q1, q2),\n",
    "          H(q2)]\n",
    "    return p\n",
    "\n",
    "print(qft1(0, 1, 2))"
   ]
  },
  {
   "cell_type": "code",
   "execution_count": 126,
   "metadata": {},
   "outputs": [
    {
     "name": "stdout",
     "output_type": "stream",
     "text": [
      "[ 3.53553391e-01+0.j          2.50000000e-01-0.25j\n",
      "  2.16489014e-17-0.35355339j -2.50000000e-01-0.25j\n",
      " -3.53553391e-01+0.j         -2.50000000e-01+0.25j\n",
      " -2.16489014e-17+0.35355339j  2.50000000e-01+0.25j      ]\n"
     ]
    }
   ],
   "source": [
    "compute_qft_prog = state_prep + qft1(0, 1, 2)\n",
    "wavefunction = wf_sim.wavefunction(compute_qft_prog)\n",
    "print(wavefunction.amplitudes)"
   ]
  },
  {
   "cell_type": "code",
   "execution_count": 127,
   "metadata": {},
   "outputs": [
    {
     "data": {
      "text/plain": [
       "array([ 0.00000000e+00+0.00000000e+00j,  1.00000000e+00+5.45603965e-17j,\n",
       "        0.00000000e+00+0.00000000e+00j,  0.00000000e+00-1.53080850e-17j,\n",
       "        0.00000000e+00+0.00000000e+00j, -7.85046229e-17-2.39442265e-17j,\n",
       "        0.00000000e+00+0.00000000e+00j,  0.00000000e+00-1.53080850e-17j])"
      ]
     },
     "execution_count": 127,
     "metadata": {},
     "output_type": "execute_result"
    }
   ],
   "source": [
    "# Verify qft by inverse FFT\n",
    "\n",
    "from numpy.fft import ifft\n",
    "ifft(wavefunction.amplitudes, norm=\"ortho\")\n"
   ]
  },
  {
   "cell_type": "markdown",
   "metadata": {},
   "source": [
    "After ignoring the terms that are on the order of 1e-17, we get [0, 1, 0, 0, 0, 0, 0, 0], which was our input. "
   ]
  }
 ],
 "metadata": {
  "kernelspec": {
   "display_name": "Python 3",
   "language": "python",
   "name": "python3"
  },
  "language_info": {
   "codemirror_mode": {
    "name": "ipython",
    "version": 3
   },
   "file_extension": ".py",
   "mimetype": "text/x-python",
   "name": "python",
   "nbconvert_exporter": "python",
   "pygments_lexer": "ipython3",
   "version": "3.7.10"
  }
 },
 "nbformat": 4,
 "nbformat_minor": 4
}
